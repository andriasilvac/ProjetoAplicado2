{
  "nbformat": 4,
  "nbformat_minor": 0,
  "metadata": {
    "colab": {
      "provenance": []
    },
    "kernelspec": {
      "name": "python3",
      "display_name": "Python 3"
    },
    "language_info": {
      "name": "python"
    }
  },
  "cells": [
    {
      "cell_type": "markdown",
      "source": [
        "# **Análise e Predição de Tarifas da Uber: Explorando Padrões e Construindo Modelos Preditivos:**"
      ],
      "metadata": {
        "id": "DDr6OPONfiOl"
      }
    },
    {
      "cell_type": "markdown",
      "source": [
        "## Seções do notebook:"
      ],
      "metadata": {
        "id": "QiJL8QPTxBdj"
      }
    },
    {
      "cell_type": "markdown",
      "source": [
        "\n",
        "\n",
        "*   Importação das bibliotecas.\n",
        "*   Análise exploratória de dados.\n",
        "*   Tratamento da base de dados.\n",
        "*   Definição do método analítico.\n",
        "*   Definição das métricas de acurácia.\n",
        "\n",
        "\n"
      ],
      "metadata": {
        "id": "Bl-Jbr_0gDux"
      }
    },
    {
      "cell_type": "markdown",
      "source": [
        "## Importação das Bibliotecas python utilizadas no projeto:"
      ],
      "metadata": {
        "id": "muXkHyqHfSD5"
      }
    },
    {
      "cell_type": "code",
      "source": [
        "import pandas as pd\n",
        "import numpy as np\n",
        "import matplotlib.pyplot as plt\n",
        "import seaborn as sns\n",
        "import folium\n",
        "from sklearn.model_selection import train_test_split\n",
        "from sklearn.linear_model import LinearRegression\n",
        "from sklearn.metrics import mean_squared_error, r2_score"
      ],
      "metadata": {
        "id": "H1ZC56j6hc8h"
      },
      "execution_count": 58,
      "outputs": []
    },
    {
      "cell_type": "markdown",
      "source": [
        "\n",
        "\n",
        "*   Pandas:  Manipulação e análise de dados\n",
        "*   Numpy: Trabalha com arrays multidimensionais e funções matemáticas de alto desempenho.\n",
        "*   Matplotlib: Cria gráficos e visualizações de dados.\n",
        "*   Seaborn: Visualização de dados estatísticos.\n",
        "*   folium: Cria mapas interativos.\n",
        "*   Sklearn.model_selection.train_test_split: Divide os dados em conjuntos de treino e teste para validação de modelos.\n",
        "*  Sklearn.linear_model.LinearRegression: Criam e ajustam modelos de regressão linear.\n",
        "*  Sklearn.metrics.mean_squared_error e r2_score: Avaliam a performance de modelos de aprendizado de máquina.\n",
        "\n",
        "\n",
        "\n",
        "\n"
      ],
      "metadata": {
        "id": "MevRTcwViolA"
      }
    },
    {
      "cell_type": "markdown",
      "source": [
        "## Dataset Utilizado na análise exploratória:"
      ],
      "metadata": {
        "id": "bjw7HLulkgT3"
      }
    },
    {
      "cell_type": "markdown",
      "source": [
        "Dataset retirado do kaggle: https://www.kaggle.com/datasets/yasserh/uber-fares-dataset?resource=download"
      ],
      "metadata": {
        "id": "mwNUsGykyEW1"
      }
    },
    {
      "cell_type": "code",
      "source": [
        "df = pd.read_csv('uber.csv')\n",
        "print(df)"
      ],
      "metadata": {
        "colab": {
          "base_uri": "https://localhost:8080/"
        },
        "id": "etnSyjJYkl5r",
        "outputId": "cfa75502-5403-4392-b45c-7c957e39458c"
      },
      "execution_count": 59,
      "outputs": [
        {
          "output_type": "stream",
          "name": "stdout",
          "text": [
            "        Unnamed: 0                            key  fare_amount  \\\n",
            "0         24238194    2015-05-07 19:52:06.0000003          7.5   \n",
            "1         27835199    2009-07-17 20:04:56.0000002          7.7   \n",
            "2         44984355   2009-08-24 21:45:00.00000061         12.9   \n",
            "3         25894730    2009-06-26 08:22:21.0000001          5.3   \n",
            "4         17610152  2014-08-28 17:47:00.000000188         16.0   \n",
            "...            ...                            ...          ...   \n",
            "199995    42598914   2012-10-28 10:49:00.00000053          3.0   \n",
            "199996    16382965    2014-03-14 01:09:00.0000008          7.5   \n",
            "199997    27804658   2009-06-29 00:42:00.00000078         30.9   \n",
            "199998    20259894    2015-05-20 14:56:25.0000004         14.5   \n",
            "199999    11951496   2010-05-15 04:08:00.00000076         14.1   \n",
            "\n",
            "                pickup_datetime  pickup_longitude  pickup_latitude  \\\n",
            "0       2015-05-07 19:52:06 UTC        -73.999817        40.738354   \n",
            "1       2009-07-17 20:04:56 UTC        -73.994355        40.728225   \n",
            "2       2009-08-24 21:45:00 UTC        -74.005043        40.740770   \n",
            "3       2009-06-26 08:22:21 UTC        -73.976124        40.790844   \n",
            "4       2014-08-28 17:47:00 UTC        -73.925023        40.744085   \n",
            "...                         ...               ...              ...   \n",
            "199995  2012-10-28 10:49:00 UTC        -73.987042        40.739367   \n",
            "199996  2014-03-14 01:09:00 UTC        -73.984722        40.736837   \n",
            "199997  2009-06-29 00:42:00 UTC        -73.986017        40.756487   \n",
            "199998  2015-05-20 14:56:25 UTC        -73.997124        40.725452   \n",
            "199999  2010-05-15 04:08:00 UTC        -73.984395        40.720077   \n",
            "\n",
            "        dropoff_longitude  dropoff_latitude  passenger_count  \n",
            "0              -73.999512         40.723217                1  \n",
            "1              -73.994710         40.750325                1  \n",
            "2              -73.962565         40.772647                1  \n",
            "3              -73.965316         40.803349                3  \n",
            "4              -73.973082         40.761247                5  \n",
            "...                   ...               ...              ...  \n",
            "199995         -73.986525         40.740297                1  \n",
            "199996         -74.006672         40.739620                1  \n",
            "199997         -73.858957         40.692588                2  \n",
            "199998         -73.983215         40.695415                1  \n",
            "199999         -73.985508         40.768793                1  \n",
            "\n",
            "[200000 rows x 9 columns]\n"
          ]
        }
      ]
    },
    {
      "cell_type": "markdown",
      "source": [
        "## Análise exploratória de dados:"
      ],
      "metadata": {
        "id": "DP_2h101l68T"
      }
    },
    {
      "cell_type": "markdown",
      "source": [
        "É feita para obtermos insights e coletar informações importantes. Deve-se examinar os dados e resumir suas principais características."
      ],
      "metadata": {
        "id": "kA3ntW3ZyW8N"
      }
    },
    {
      "cell_type": "markdown",
      "source": [
        "### Número de linhas e colunas do dataframe:"
      ],
      "metadata": {
        "id": "AoYchnHnrS-8"
      }
    },
    {
      "cell_type": "code",
      "source": [
        "l, c = df.shape\n",
        "print(f'O dataframe apresenta: {l} linhas e {c} colunas')\n"
      ],
      "metadata": {
        "colab": {
          "base_uri": "https://localhost:8080/"
        },
        "id": "nhfHUIWArXs7",
        "outputId": "ec7fdad9-26bd-4dd7-ce76-9b6a390cdf2e"
      },
      "execution_count": 60,
      "outputs": [
        {
          "output_type": "stream",
          "name": "stdout",
          "text": [
            "O dataframe apresenta: 200000 linhas e 9 colunas\n"
          ]
        }
      ]
    },
    {
      "cell_type": "markdown",
      "source": [
        "### Limpeza dos dados\n",
        "\n"
      ],
      "metadata": {
        "id": "WK0qi_v7wYQJ"
      }
    },
    {
      "cell_type": "markdown",
      "source": [
        "Esses passos envolvem a identificação e o tratamento de valores ausentes, outliers e a transformação de dados, quando necessário:"
      ],
      "metadata": {
        "id": "HumoZAte0bfQ"
      }
    },
    {
      "cell_type": "code",
      "source": [
        "# Informações gerais do dataframe:\n",
        "print(df.dtypes)\n",
        "print(df.info())\n",
        "print(df.describe())\n"
      ],
      "metadata": {
        "colab": {
          "base_uri": "https://localhost:8080/"
        },
        "id": "Mnwuhu59zfuz",
        "outputId": "a5cb5950-62cd-4c74-9c28-6fda04edf8a3"
      },
      "execution_count": 61,
      "outputs": [
        {
          "output_type": "stream",
          "name": "stdout",
          "text": [
            "Unnamed: 0             int64\n",
            "key                   object\n",
            "fare_amount          float64\n",
            "pickup_datetime       object\n",
            "pickup_longitude     float64\n",
            "pickup_latitude      float64\n",
            "dropoff_longitude    float64\n",
            "dropoff_latitude     float64\n",
            "passenger_count        int64\n",
            "dtype: object\n",
            "<class 'pandas.core.frame.DataFrame'>\n",
            "RangeIndex: 200000 entries, 0 to 199999\n",
            "Data columns (total 9 columns):\n",
            " #   Column             Non-Null Count   Dtype  \n",
            "---  ------             --------------   -----  \n",
            " 0   Unnamed: 0         200000 non-null  int64  \n",
            " 1   key                200000 non-null  object \n",
            " 2   fare_amount        200000 non-null  float64\n",
            " 3   pickup_datetime    200000 non-null  object \n",
            " 4   pickup_longitude   200000 non-null  float64\n",
            " 5   pickup_latitude    200000 non-null  float64\n",
            " 6   dropoff_longitude  199999 non-null  float64\n",
            " 7   dropoff_latitude   199999 non-null  float64\n",
            " 8   passenger_count    200000 non-null  int64  \n",
            "dtypes: float64(5), int64(2), object(2)\n",
            "memory usage: 13.7+ MB\n",
            "None\n",
            "         Unnamed: 0    fare_amount  pickup_longitude  pickup_latitude  \\\n",
            "count  2.000000e+05  200000.000000     200000.000000    200000.000000   \n",
            "mean   2.771250e+07      11.359955        -72.527638        39.935885   \n",
            "std    1.601382e+07       9.901776         11.437787         7.720539   \n",
            "min    1.000000e+00     -52.000000      -1340.648410       -74.015515   \n",
            "25%    1.382535e+07       6.000000        -73.992065        40.734796   \n",
            "50%    2.774550e+07       8.500000        -73.981823        40.752592   \n",
            "75%    4.155530e+07      12.500000        -73.967154        40.767158   \n",
            "max    5.542357e+07     499.000000         57.418457      1644.421482   \n",
            "\n",
            "       dropoff_longitude  dropoff_latitude  passenger_count  \n",
            "count      199999.000000     199999.000000    200000.000000  \n",
            "mean          -72.525292         39.923890         1.684535  \n",
            "std            13.117408          6.794829         1.385997  \n",
            "min         -3356.666300       -881.985513         0.000000  \n",
            "25%           -73.991407         40.733823         1.000000  \n",
            "50%           -73.980093         40.753042         1.000000  \n",
            "75%           -73.963658         40.768001         2.000000  \n",
            "max          1153.572603        872.697628       208.000000  \n"
          ]
        }
      ]
    },
    {
      "cell_type": "markdown",
      "source": [
        " Removendo unnamed 0:"
      ],
      "metadata": {
        "id": "XZ5JdWqa1K5t"
      }
    },
    {
      "cell_type": "code",
      "source": [
        "if 'Unnamed: 0' in df.columns:\n",
        "    df.drop(columns=['Unnamed: 0'], inplace=True)"
      ],
      "metadata": {
        "id": "vlkWbudv0iSJ"
      },
      "execution_count": 62,
      "outputs": []
    },
    {
      "cell_type": "markdown",
      "source": [
        "Identificar e tratar valores ausentes:"
      ],
      "metadata": {
        "id": "aBbYEgxr1OGz"
      }
    },
    {
      "cell_type": "code",
      "source": [
        "print(df.isnull().sum())"
      ],
      "metadata": {
        "colab": {
          "base_uri": "https://localhost:8080/"
        },
        "id": "X3Fty5fu1HJ4",
        "outputId": "5efb70fa-6055-4248-b93a-d03fb84682fb"
      },
      "execution_count": 63,
      "outputs": [
        {
          "output_type": "stream",
          "name": "stdout",
          "text": [
            "key                  0\n",
            "fare_amount          0\n",
            "pickup_datetime      0\n",
            "pickup_longitude     0\n",
            "pickup_latitude      0\n",
            "dropoff_longitude    1\n",
            "dropoff_latitude     1\n",
            "passenger_count      0\n",
            "dtype: int64\n"
          ]
        }
      ]
    },
    {
      "cell_type": "markdown",
      "source": [
        "Substituindo as linhas que contêm valores nulos:"
      ],
      "metadata": {
        "id": "N32rmiC52fby"
      }
    },
    {
      "cell_type": "code",
      "source": [
        "median_longitude = df['dropoff_longitude'].median()\n",
        "median_latitude = df['dropoff_latitude'].median()\n",
        "\n",
        "df['dropoff_longitude'] = df['dropoff_longitude'].fillna(median_longitude)\n",
        "df['dropoff_latitude'] = df['dropoff_latitude'].fillna(median_latitude)"
      ],
      "metadata": {
        "id": "pU7l8WiB1a9L"
      },
      "execution_count": 64,
      "outputs": []
    },
    {
      "cell_type": "markdown",
      "source": [
        "Convertendo pickup_datetime para o tipo datetime:"
      ],
      "metadata": {
        "id": "iroDNlbz3rfR"
      }
    },
    {
      "cell_type": "code",
      "source": [
        "# Convertendi pickup_datetime para o tipo datetime:\n",
        "df['pickup_datetime'] = pd.to_datetime(df['pickup_datetime'])\n",
        "# Tratando possíveis erros de conversão e removendo registros inválidos:\n",
        "df = df[df['pickup_datetime'].notnull()]\n"
      ],
      "metadata": {
        "id": "kfmrXDsq3s_s"
      },
      "execution_count": 65,
      "outputs": []
    },
    {
      "cell_type": "markdown",
      "source": [
        "Removendo as tarifas negativas ou zero:"
      ],
      "metadata": {
        "id": "c8bNqT6h5ghm"
      }
    },
    {
      "cell_type": "code",
      "source": [
        "df = df[df['fare_amount'] > 0]"
      ],
      "metadata": {
        "id": "-kvKIduO5JSr"
      },
      "execution_count": 66,
      "outputs": []
    },
    {
      "cell_type": "markdown",
      "source": [
        "Tratando o passenger_count:"
      ],
      "metadata": {
        "id": "_PdsnSgG5s1E"
      }
    },
    {
      "cell_type": "code",
      "source": [
        "df = df[(df['passenger_count'] > 0) & (df['passenger_count'] <= 6)]"
      ],
      "metadata": {
        "id": "8xqVAlIw6CIw"
      },
      "execution_count": 67,
      "outputs": []
    },
    {
      "cell_type": "markdown",
      "source": [
        "Validando o dataset limpo:"
      ],
      "metadata": {
        "id": "1dHaeurI7NYb"
      }
    },
    {
      "cell_type": "code",
      "source": [
        "print(df.isnull().sum())\n",
        "print(df.info())\n",
        "print(df.describe())\n",
        "print(df.head())\n"
      ],
      "metadata": {
        "colab": {
          "base_uri": "https://localhost:8080/"
        },
        "id": "PRgFHFiU7QCV",
        "outputId": "a33cd122-75ad-4411-d9ab-a137d906b3d1"
      },
      "execution_count": 68,
      "outputs": [
        {
          "output_type": "stream",
          "name": "stdout",
          "text": [
            "key                  0\n",
            "fare_amount          0\n",
            "pickup_datetime      0\n",
            "pickup_longitude     0\n",
            "pickup_latitude      0\n",
            "dropoff_longitude    0\n",
            "dropoff_latitude     0\n",
            "passenger_count      0\n",
            "dtype: int64\n",
            "<class 'pandas.core.frame.DataFrame'>\n",
            "Index: 199268 entries, 0 to 199999\n",
            "Data columns (total 8 columns):\n",
            " #   Column             Non-Null Count   Dtype              \n",
            "---  ------             --------------   -----              \n",
            " 0   key                199268 non-null  object             \n",
            " 1   fare_amount        199268 non-null  float64            \n",
            " 2   pickup_datetime    199268 non-null  datetime64[ns, UTC]\n",
            " 3   pickup_longitude   199268 non-null  float64            \n",
            " 4   pickup_latitude    199268 non-null  float64            \n",
            " 5   dropoff_longitude  199268 non-null  float64            \n",
            " 6   dropoff_latitude   199268 non-null  float64            \n",
            " 7   passenger_count    199268 non-null  int64              \n",
            "dtypes: datetime64[ns, UTC](1), float64(5), int64(1), object(1)\n",
            "memory usage: 13.7+ MB\n",
            "None\n",
            "         fare_amount  pickup_longitude  pickup_latitude  dropoff_longitude  \\\n",
            "count  199268.000000     199268.000000    199268.000000      199268.000000   \n",
            "mean       11.369418        -72.530113        39.937182         -72.528142   \n",
            "std         9.905877         11.434234         7.723680          13.119047   \n",
            "min         0.010000      -1340.648410       -74.015515       -3356.666300   \n",
            "25%         6.000000        -73.992065        40.734796         -73.991410   \n",
            "50%         8.500000        -73.981825        40.752584         -73.980095   \n",
            "75%        12.500000        -73.967162        40.767157         -73.963664   \n",
            "max       499.000000         57.418457      1644.421482        1153.572603   \n",
            "\n",
            "       dropoff_latitude  passenger_count  \n",
            "count     199268.000000    199268.000000  \n",
            "mean          39.925350         1.689438  \n",
            "std            6.794163         1.305387  \n",
            "min         -881.985513         1.000000  \n",
            "25%           40.733828         1.000000  \n",
            "50%           40.753041         1.000000  \n",
            "75%           40.767995         2.000000  \n",
            "max          872.697628         6.000000  \n",
            "                             key  fare_amount           pickup_datetime  \\\n",
            "0    2015-05-07 19:52:06.0000003          7.5 2015-05-07 19:52:06+00:00   \n",
            "1    2009-07-17 20:04:56.0000002          7.7 2009-07-17 20:04:56+00:00   \n",
            "2   2009-08-24 21:45:00.00000061         12.9 2009-08-24 21:45:00+00:00   \n",
            "3    2009-06-26 08:22:21.0000001          5.3 2009-06-26 08:22:21+00:00   \n",
            "4  2014-08-28 17:47:00.000000188         16.0 2014-08-28 17:47:00+00:00   \n",
            "\n",
            "   pickup_longitude  pickup_latitude  dropoff_longitude  dropoff_latitude  \\\n",
            "0        -73.999817        40.738354         -73.999512         40.723217   \n",
            "1        -73.994355        40.728225         -73.994710         40.750325   \n",
            "2        -74.005043        40.740770         -73.962565         40.772647   \n",
            "3        -73.976124        40.790844         -73.965316         40.803349   \n",
            "4        -73.925023        40.744085         -73.973082         40.761247   \n",
            "\n",
            "   passenger_count  \n",
            "0                1  \n",
            "1                1  \n",
            "2                1  \n",
            "3                3  \n",
            "4                5  \n"
          ]
        }
      ]
    },
    {
      "cell_type": "markdown",
      "source": [
        "### Medidas de posição:"
      ],
      "metadata": {
        "id": "Zp8lqrPqCMzo"
      }
    },
    {
      "cell_type": "markdown",
      "source": [
        "As principais medidas de posição são as de tendência central: média, mediana e moda e as separatrizes: quartis, decis e percentis."
      ],
      "metadata": {
        "id": "tX9G75BhGyv7"
      }
    },
    {
      "cell_type": "markdown",
      "source": [
        "A **Média** tem como função medir a tendência central de um conjunto de dados. Serve, por exemplo, para identificar tendências ao longo do tempo e para análises estatísticas. A média é mais representativa quando os dados têm uma distribuição simétrica e não contêm outliers significativos."
      ],
      "metadata": {
        "id": "lEYNHvdBG5q8"
      }
    },
    {
      "cell_type": "code",
      "source": [
        "# média\n",
        "media_fare_amount = df['fare_amount'].mean()\n",
        "media_pickup_longitude = df['pickup_longitude'].mean()\n",
        "media_pickup_latitude = df['pickup_latitude'].mean()\n",
        "media_dropoff_longitude = df['dropoff_longitude'].mean()\n",
        "media_dropoff_latitude = df['dropoff_latitude'].mean()\n",
        "media_passenger_count = df['passenger_count'].mean()\n",
        "print(f'A média da coluna fare_amount é: {media_fare_amount}')\n",
        "print(f'A média da coluna pickup_longitude é: {media_pickup_longitude}')\n",
        "print(f'A média da coluna pickup_latitude é: {media_pickup_latitude}')\n",
        "print(f'A média da coluna dropoff_longitude é: {media_dropoff_longitude}')\n",
        "print(f'A média da coluna dropoff_latitude é: {media_dropoff_latitude}')\n",
        "print(f'A média da coluna passenger_count é: {media_passenger_count}')\n"
      ],
      "metadata": {
        "colab": {
          "base_uri": "https://localhost:8080/"
        },
        "id": "Fw8icGyCCPYK",
        "outputId": "b5f5e471-f5a1-4eb1-82b0-a6ba56b966de"
      },
      "execution_count": 69,
      "outputs": [
        {
          "output_type": "stream",
          "name": "stdout",
          "text": [
            "A média da coluna fare_amount é: 11.369417668667321\n",
            "A média da coluna pickup_longitude é: -72.53011263615645\n",
            "A média da coluna pickup_latitude é: 39.93718237674515\n",
            "A média da coluna dropoff_longitude é: -72.52814194742179\n",
            "A média da coluna dropoff_latitude é: 39.92535001572686\n",
            "A média da coluna passenger_count é: 1.6894383443402854\n"
          ]
        }
      ]
    },
    {
      "cell_type": "markdown",
      "source": [
        "Não é necessário calcular a média de \"key\" pois ela é um identificador único, e nem de \"pickup_datetime\" pois é uma data.\n"
      ],
      "metadata": {
        "id": "q97NJldMKBio"
      }
    },
    {
      "cell_type": "code",
      "source": [
        "# Verificando se todas as chaves são únicas ou se há duplicatas\n",
        "df['key'].nunique()  # Número de chaves únicas\n",
        "df['key'].duplicated().sum()  # Número de duplicatas"
      ],
      "metadata": {
        "colab": {
          "base_uri": "https://localhost:8080/"
        },
        "id": "lDDv7PBxKLO7",
        "outputId": "e0a87c27-842e-4dc3-a2ea-d99d46744fd7"
      },
      "execution_count": 70,
      "outputs": [
        {
          "output_type": "execute_result",
          "data": {
            "text/plain": [
              "np.int64(0)"
            ]
          },
          "metadata": {},
          "execution_count": 70
        }
      ]
    },
    {
      "cell_type": "markdown",
      "source": [
        "A **Mediana** é uma medida de tendência central que representa o valor que divide um conjunto de dados em duas partes iguais. Ela tem foco em análises mais descritivas e não é afetada por outliers (valores muito altos ou muito baixos), tornando-se eficiente quando os dados possuem distribuições assimétricas."
      ],
      "metadata": {
        "id": "S4YiKMLOUs6s"
      }
    },
    {
      "cell_type": "code",
      "source": [
        "# Mediana\n",
        "mediana_fare_amount = df['fare_amount'].median()\n",
        "mediana_pickup_datetime = df['pickup_datetime'].median()\n",
        "mediana_pickup_longitude = df['pickup_longitude'].median()\n",
        "mediana_pickup_latitude = df['pickup_latitude'].median()\n",
        "mediana_dropoff_longitude = df['dropoff_longitude'].median()\n",
        "mediana_dropoff_latitude = df['dropoff_latitude'].median()\n",
        "mediana_passenger_count = df['passenger_count'].median()\n",
        "print(f'A mediana da coluna fare_amount é: {mediana_fare_amount}')\n",
        "print(f'A mediana da coluna pickup_datetime é: {mediana_pickup_datetime}')\n",
        "print(f'A mediana da coluna pickup_longitude é: {mediana_pickup_longitude}')\n",
        "print(f'A mediana da coluna pickup_latitude é: {mediana_pickup_latitude}')\n",
        "print(f'A mediana da coluna dropoff_longitude é: {mediana_dropoff_longitude}')\n",
        "print(f'A mediana da coluna dropoff_latitude é: {mediana_dropoff_latitude}')\n",
        "print(f'A mediana da coluna passenger_count é: {mediana_passenger_count}')"
      ],
      "metadata": {
        "colab": {
          "base_uri": "https://localhost:8080/"
        },
        "id": "_S4SjbHUU1A2",
        "outputId": "ee645cdf-c207-4416-abe5-20cdd09a02fb"
      },
      "execution_count": 71,
      "outputs": [
        {
          "output_type": "stream",
          "name": "stdout",
          "text": [
            "A mediana da coluna fare_amount é: 8.5\n",
            "A mediana da coluna pickup_datetime é: 2012-03-24 06:15:24+00:00\n",
            "A mediana da coluna pickup_longitude é: -73.981825\n",
            "A mediana da coluna pickup_latitude é: 40.7525835\n",
            "A mediana da coluna dropoff_longitude é: -73.98009499999999\n",
            "A mediana da coluna dropoff_latitude é: 40.75304115686035\n",
            "A mediana da coluna passenger_count é: 1.0\n"
          ]
        }
      ]
    },
    {
      "cell_type": "markdown",
      "source": [
        "A **moda** é uma medida de tendência central que representa o valor ou os valores que aparecem com mais frequência em um conjunto de dados."
      ],
      "metadata": {
        "id": "HaZZ0J4EXj4D"
      }
    },
    {
      "cell_type": "code",
      "source": [
        "moda_fare_amount = df['fare_amount'].mode()\n",
        "moda_pickup_longitude = df['pickup_longitude'].mode()\n",
        "moda_pickup_latitude = df['pickup_latitude'].mode()\n",
        "moda_dropoff_longitude = df['dropoff_longitude'].mode()\n",
        "moda_dropoff_latitude = df['dropoff_latitude'].mode()\n",
        "moda_passenger_count = df['passenger_count'].mode()\n",
        "print(f'A moda da coluna fare_amount é: {moda_fare_amount}')\n",
        "print(f'A moda da coluna pickup_longitude é: {moda_pickup_longitude}')\n",
        "print(f'A moda da coluna pickup_latitude é: {moda_pickup_latitude}')\n",
        "print(f'A moda da coluna dropoff_longitude é: {moda_dropoff_longitude}')\n",
        "print(f'A moda da coluna dropoff_latitude é: {moda_dropoff_latitude}')\n",
        "print(f'A moda da coluna passenger_count é: {moda_passenger_count}')"
      ],
      "metadata": {
        "colab": {
          "base_uri": "https://localhost:8080/"
        },
        "id": "4izpWXLiXnLf",
        "outputId": "0452afa2-2384-4a46-996b-42055daf6487"
      },
      "execution_count": 72,
      "outputs": [
        {
          "output_type": "stream",
          "name": "stdout",
          "text": [
            "A moda da coluna fare_amount é: 0    6.5\n",
            "Name: fare_amount, dtype: float64\n",
            "A moda da coluna pickup_longitude é: 0    0.0\n",
            "Name: pickup_longitude, dtype: float64\n",
            "A moda da coluna pickup_latitude é: 0    0.0\n",
            "Name: pickup_latitude, dtype: float64\n",
            "A moda da coluna dropoff_longitude é: 0    0.0\n",
            "Name: dropoff_longitude, dtype: float64\n",
            "A moda da coluna dropoff_latitude é: 0    0.0\n",
            "Name: dropoff_latitude, dtype: float64\n",
            "A moda da coluna passenger_count é: 0    1\n",
            "Name: passenger_count, dtype: int64\n"
          ]
        }
      ]
    },
    {
      "cell_type": "markdown",
      "source": [
        "Verificando quantos valores 0.0 existem em cada coluna das coordenadas: pickup_longitude, pickup_latitude, dropoff_longitude, dropoff_latitude."
      ],
      "metadata": {
        "id": "Gm3dkVhRaDpK"
      }
    },
    {
      "cell_type": "code",
      "source": [
        "print(df['pickup_longitude'].value_counts().get(0.0, 0))  # Quantos 0.0 na coluna pickup_longitude\n",
        "print(df['pickup_latitude'].value_counts().get(0.0, 0))   # Quantos 0.0 na coluna pickup_latitude\n",
        "print(df['dropoff_longitude'].value_counts().get(0.0, 0)) # Quantos 0.0 na coluna dropoff_longitude\n",
        "print(df['dropoff_latitude'].value_counts().get(0.0, 0))  # Quantos 0.0 na coluna dropoff_latitude\n"
      ],
      "metadata": {
        "colab": {
          "base_uri": "https://localhost:8080/"
        },
        "id": "WBEwxujJZhXv",
        "outputId": "81de94c6-ddf1-4203-ea28-0ee3d6735b2f"
      },
      "execution_count": 73,
      "outputs": [
        {
          "output_type": "stream",
          "name": "stdout",
          "text": [
            "3765\n",
            "3761\n",
            "3742\n",
            "3736\n"
          ]
        }
      ]
    },
    {
      "cell_type": "markdown",
      "source": [
        "Os **quartis** são pontos de divisão de uma amostra de dados em quatro segmentos de tamanho igual. Eles permitem analisar a dispersão entre o valor mínimo e o valor máximo do conjunto de dados, além de ajudar a identificar valores atípicos (outliers). Vale destacar que a diferença entre o Q1 e o Q3 é conhecida como intervalo interquartil (IQR), enquanto o Q2, ou 0.5, representa a mediana.\n"
      ],
      "metadata": {
        "id": "310XV9hgc_OX"
      }
    },
    {
      "cell_type": "code",
      "source": [
        "# quartis:\n",
        "quartis_fare_amount = df['fare_amount'].quantile([0.25, 0.5, 0.75])\n",
        "quartis_pickup_longitude = df['pickup_longitude'].quantile([0.25, 0.5, 0.75])\n",
        "quartis_pickup_latitude = df['pickup_latitude'].quantile([0.25, 0.5, 0.75])\n",
        "quartis_dropoff_longitude = df['dropoff_longitude'].quantile([0.25, 0.5, 0.75])\n",
        "quartis_dropoff_latitude = df['dropoff_latitude'].quantile([0.25, 0.5, 0.75])\n",
        "quartis_passenger_count = df['passenger_count'].quantile([0.25, 0.5, 0.75])\n",
        "print(f'Os quartis da coluna fare_amount são:\\n{quartis_fare_amount}')\n",
        "print(f'Os quartis da coluna pickup_longitude são:\\n{quartis_pickup_longitude}')\n",
        "print(f'Os quartis da coluna pickup_latitude são:\\n{quartis_pickup_latitude}')\n",
        "print(f'Os quartis da coluna dropoff_longitude são:\\n{quartis_dropoff_longitude}')\n",
        "print(f'Os quartis da coluna dropoff_latitude são:\\n{quartis_dropoff_latitude}')\n",
        "print(f'Os quartis da coluna passenger_count são:\\n{quartis_passenger_count}')\n"
      ],
      "metadata": {
        "colab": {
          "base_uri": "https://localhost:8080/"
        },
        "id": "5maBNYvOc5JN",
        "outputId": "c27d1814-d427-405d-9cc8-fca07fb54652"
      },
      "execution_count": 74,
      "outputs": [
        {
          "output_type": "stream",
          "name": "stdout",
          "text": [
            "Os quartis da coluna fare_amount são:\n",
            "0.25     6.0\n",
            "0.50     8.5\n",
            "0.75    12.5\n",
            "Name: fare_amount, dtype: float64\n",
            "Os quartis da coluna pickup_longitude são:\n",
            "0.25   -73.992065\n",
            "0.50   -73.981825\n",
            "0.75   -73.967162\n",
            "Name: pickup_longitude, dtype: float64\n",
            "Os quartis da coluna pickup_latitude são:\n",
            "0.25    40.734796\n",
            "0.50    40.752584\n",
            "0.75    40.767157\n",
            "Name: pickup_latitude, dtype: float64\n",
            "Os quartis da coluna dropoff_longitude são:\n",
            "0.25   -73.991410\n",
            "0.50   -73.980095\n",
            "0.75   -73.963664\n",
            "Name: dropoff_longitude, dtype: float64\n",
            "Os quartis da coluna dropoff_latitude são:\n",
            "0.25    40.733828\n",
            "0.50    40.753041\n",
            "0.75    40.767995\n",
            "Name: dropoff_latitude, dtype: float64\n",
            "Os quartis da coluna passenger_count são:\n",
            "0.25    1.0\n",
            "0.50    1.0\n",
            "0.75    2.0\n",
            "Name: passenger_count, dtype: float64\n"
          ]
        }
      ]
    },
    {
      "cell_type": "markdown",
      "source": [
        "**Decis** são valores que segmentam um conjunto de dados em dez partes iguais, onde cada decis corresponde a 10% do total. Eles são ferramentas úteis para analisar a posição relativa de um dado específico dentro de um conjunto maior, facilitando a compreensão da distribuição dos valores."
      ],
      "metadata": {
        "id": "-OrXIvxCgAIy"
      }
    },
    {
      "cell_type": "code",
      "source": [
        "# Decis:\n",
        "decis_fare_amount = df['fare_amount'].quantile(np.arange(0, 1.1, 0.1))\n",
        "decis_pickup_longitude = df['pickup_longitude'].quantile(np.arange(0, 1.1, 0.1))\n",
        "decis_pickup_latitude = df['pickup_latitude'].quantile(np.arange(0, 1.1, 0.1))\n",
        "decis_dropoff_longitude = df['dropoff_longitude'].quantile(np.arange(0, 1.1, 0.1))\n",
        "decis_dropoff_latitude = df['dropoff_latitude'].quantile(np.arange(0, 1.1, 0.1))\n",
        "decis_passenger_count = df['passenger_count'].quantile(np.arange(0, 1.1, 0.1))\n",
        "print(f'Os decis da coluna fare_amount são:\\n{decis_fare_amount}')\n",
        "print(f'Os decis da coluna pickup_longitude são:\\n{decis_pickup_longitude}')\n",
        "print(f'Os decis da coluna pickup_latitude são:\\n{decis_pickup_latitude}')\n",
        "print(f'Os decis da coluna dropoff_longitude são:\\n{decis_dropoff_longitude}')\n",
        "print(f'Os decis da coluna dropoff_latitude são:\\n{decis_dropoff_latitude}')\n",
        "print(f'Os decis da coluna passenger_count são:\\n{decis_passenger_count}')"
      ],
      "metadata": {
        "colab": {
          "base_uri": "https://localhost:8080/"
        },
        "id": "W-AHDXGMgC_A",
        "outputId": "f7ce99f3-1e88-4780-bc48-63f3df7dbe08"
      },
      "execution_count": 75,
      "outputs": [
        {
          "output_type": "stream",
          "name": "stdout",
          "text": [
            "Os decis da coluna fare_amount são:\n",
            "0.0      0.01\n",
            "0.1      4.50\n",
            "0.2      5.50\n",
            "0.3      6.50\n",
            "0.4      7.30\n",
            "0.5      8.50\n",
            "0.6      9.70\n",
            "0.7     11.50\n",
            "0.8     14.10\n",
            "0.9     20.50\n",
            "1.0    499.00\n",
            "Name: fare_amount, dtype: float64\n",
            "Os decis da coluna pickup_longitude são:\n",
            "0.0   -1340.648410\n",
            "0.1     -74.002760\n",
            "0.2     -73.994602\n",
            "0.3     -73.990087\n",
            "0.4     -73.985853\n",
            "0.5     -73.981825\n",
            "0.6     -73.977322\n",
            "0.7     -73.971272\n",
            "0.8     -73.962135\n",
            "0.9     -73.950781\n",
            "1.0      57.418457\n",
            "Name: pickup_longitude, dtype: float64\n",
            "Os decis da coluna pickup_latitude são:\n",
            "0.0     -74.015515\n",
            "0.1      40.718227\n",
            "0.2      40.729883\n",
            "0.3      40.739517\n",
            "0.4      40.746567\n",
            "0.5      40.752584\n",
            "0.6      40.758640\n",
            "0.7      40.763919\n",
            "0.8      40.771027\n",
            "0.9      40.779845\n",
            "1.0    1644.421482\n",
            "Name: pickup_latitude, dtype: float64\n",
            "Os decis da coluna dropoff_longitude são:\n",
            "0.0   -3356.666300\n",
            "0.1     -74.002992\n",
            "0.2     -73.994180\n",
            "0.3     -73.989219\n",
            "0.4     -73.984410\n",
            "0.5     -73.980095\n",
            "0.6     -73.975350\n",
            "0.7     -73.968858\n",
            "0.8     -73.958448\n",
            "0.9     -73.945378\n",
            "1.0    1153.572603\n",
            "Name: dropoff_longitude, dtype: float64\n",
            "Os decis da coluna dropoff_latitude são:\n",
            "0.0   -881.985513\n",
            "0.1     40.712914\n",
            "0.2     40.727815\n",
            "0.3     40.738985\n",
            "0.4     40.747080\n",
            "0.5     40.753041\n",
            "0.6     40.758936\n",
            "0.7     40.764320\n",
            "0.8     40.772366\n",
            "0.9     40.782672\n",
            "1.0    872.697628\n",
            "Name: dropoff_latitude, dtype: float64\n",
            "Os decis da coluna passenger_count são:\n",
            "0.0    1.0\n",
            "0.1    1.0\n",
            "0.2    1.0\n",
            "0.3    1.0\n",
            "0.4    1.0\n",
            "0.5    1.0\n",
            "0.6    1.0\n",
            "0.7    2.0\n",
            "0.8    2.0\n",
            "0.9    4.0\n",
            "1.0    6.0\n",
            "Name: passenger_count, dtype: float64\n"
          ]
        }
      ]
    },
    {
      "cell_type": "markdown",
      "source": [
        "Os **percentis** particionam um conjunto de dados em cem partes iguais, sendo que cada percentil representa a posição relativa de um dado em comparação com os demais no conjunto."
      ],
      "metadata": {
        "id": "hvbQYNf-iFTr"
      }
    },
    {
      "cell_type": "code",
      "source": [
        "# Percentil\n",
        "# Exemplo 80 º percentil:\n",
        "percentil_80_fare_amount = df['fare_amount'].quantile(0.8)\n",
        "percentil_80_pickup_longitude = df['pickup_longitude'].quantile(0.8)\n",
        "percentil_80_pickup_latitude = df['pickup_latitude'].quantile(0.8)\n",
        "percentil_80_dropoff_longitude = df['dropoff_longitude'].quantile(0.8)\n",
        "percentil_80_dropoff_latitude = df['dropoff_latitude'].quantile(0.8)\n",
        "percentil_80_passenger_count = df['passenger_count'].quantile(0.8)\n",
        "print(f'O 80º percentil da coluna fare_amount é: {percentil_80_fare_amount}')\n",
        "print(f'O 80º percentil da coluna pickup_longitude é: {percentil_80_pickup_longitude}')\n",
        "print(f'O 80º percentil da coluna pickup_latitude é: {percentil_80_pickup_latitude}')\n",
        "print(f'O 80º percentil da coluna dropoff_longitude é: {percentil_80_dropoff_longitude}')\n",
        "print(f'O 80º percentil da coluna dropoff_latitude é: {percentil_80_dropoff_latitude}')\n",
        "print(f'O 80º percentil da coluna passenger_count é: {percentil_80_passenger_count}')"
      ],
      "metadata": {
        "colab": {
          "base_uri": "https://localhost:8080/"
        },
        "id": "pjLdJs91iMSc",
        "outputId": "661fc9d4-520c-46a0-f9b3-bc33db234ab1"
      },
      "execution_count": 76,
      "outputs": [
        {
          "output_type": "stream",
          "name": "stdout",
          "text": [
            "O 80º percentil da coluna fare_amount é: 14.1\n",
            "O 80º percentil da coluna pickup_longitude é: -73.9621353149414\n",
            "O 80º percentil da coluna pickup_latitude é: 40.771027\n",
            "O 80º percentil da coluna dropoff_longitude é: -73.958448\n",
            "O 80º percentil da coluna dropoff_latitude é: 40.7723662\n",
            "O 80º percentil da coluna passenger_count é: 2.0\n"
          ]
        }
      ]
    },
    {
      "cell_type": "markdown",
      "source": [
        "### Medidas de dispersão:"
      ],
      "metadata": {
        "id": "HkKc_ufCkQiO"
      }
    },
    {
      "cell_type": "markdown",
      "source": [
        "Absoluta: variância, desvio e amplitude. Relativa: Coeficiente de variação."
      ],
      "metadata": {
        "id": "z5iCk2qakU50"
      }
    },
    {
      "cell_type": "markdown",
      "source": [
        "A **variância** quantifica o grau de dispersão dos dados em torno da média, indicando o quanto os valores se afastam, em média, do valor central."
      ],
      "metadata": {
        "id": "HHx-ryKAkjbU"
      }
    },
    {
      "cell_type": "code",
      "source": [
        "# variância\n",
        "variancia_fare_amount = df['fare_amount'].var()\n",
        "variancia_pickup_longitude = df['pickup_longitude'].var()\n",
        "variancia_pickup_latitude = df['pickup_latitude'].var()\n",
        "variancia_dropoff_longitude = df['dropoff_longitude'].var()\n",
        "variancia_dropoff_latitude = df['dropoff_latitude'].var()\n",
        "variancia_passenger_count = df['passenger_count'].var()\n",
        "print(f'A variância da coluna fare_amount é: {variancia_fare_amount}')\n",
        "print(f'A variância da coluna pickup_longitude é: {variancia_pickup_longitude}')\n",
        "print(f'A variância da coluna pickup_latitude é: {variancia_pickup_latitude}')\n",
        "print(f'A variância da coluna dropoff_longitude é: {variancia_dropoff_longitude}')\n",
        "print(f'A variância da coluna dropoff_latitude é: {variancia_dropoff_latitude}')\n",
        "print(f'A variância da coluna passenger_count é: {variancia_passenger_count}')"
      ],
      "metadata": {
        "colab": {
          "base_uri": "https://localhost:8080/"
        },
        "id": "aHk7F01pkncm",
        "outputId": "bb09f61f-03e0-4335-a791-018a545a45c7"
      },
      "execution_count": 77,
      "outputs": [
        {
          "output_type": "stream",
          "name": "stdout",
          "text": [
            "A variância da coluna fare_amount é: 98.1264021209224\n",
            "A variância da coluna pickup_longitude é: 130.7416964413215\n",
            "A variância da coluna pickup_latitude é: 59.65523356869771\n",
            "A variância da coluna dropoff_longitude é: 172.1093977764024\n",
            "A variância da coluna dropoff_latitude é: 46.160645950163655\n",
            "A variância da coluna passenger_count é: 1.704034747044168\n"
          ]
        }
      ]
    },
    {
      "cell_type": "markdown",
      "source": [
        "O **desvio padrão** é a raiz quadrada da variância e serve como uma medida de variabilidade, indicando o quanto os dados estão distribuídos em relação à média."
      ],
      "metadata": {
        "id": "JdpcvWVimRqH"
      }
    },
    {
      "cell_type": "code",
      "source": [
        "# desvio padrão\n",
        "desvio_padrao_fare_amount = df['fare_amount'].std\n",
        "desvio_padrao_pickup_longitude = df['pickup_longitude'].std()\n",
        "desvio_padrao_pickup_latitude = df['pickup_latitude'].std()\n",
        "desvio_padrao_dropoff_longitude = df['dropoff_longitude'].std()\n",
        "desvio_padrao_dropoff_latitude = df['dropoff_latitude'].std()\n",
        "desvio_padrao_passenger_count = df['passenger_count'].std()\n",
        "print(f'O desvio padrão da coluna fare_amount é:\\n{desvio_padrao_fare_amount}')\n",
        "print(f'O desvio padrão da coluna pickup_longitude é:\\n{desvio_padrao_pickup_longitude}')\n",
        "print(f'O desvio padrão da coluna pickup_latitude é:\\n{desvio_padrao_pickup_latitude}')\n",
        "print(f'O desvio padrão da coluna dropoff_longitude é:\\n{desvio_padrao_dropoff_longitude}')\n",
        "print(f'O desvio padrão da coluna dropoff_latitude é:\\n{desvio_padrao_dropoff_latitude}')\n",
        "print(f'O desvio padrão da coluna passenger_count é:\\n{desvio_padrao_passenger_count}')"
      ],
      "metadata": {
        "colab": {
          "base_uri": "https://localhost:8080/"
        },
        "id": "envY6EtgmT-8",
        "outputId": "ccce05c9-2982-410f-dfc6-ced9f81465f1"
      },
      "execution_count": 78,
      "outputs": [
        {
          "output_type": "stream",
          "name": "stdout",
          "text": [
            "O desvio padrão da coluna fare_amount é:\n",
            "<bound method Series.std of 0          7.5\n",
            "1          7.7\n",
            "2         12.9\n",
            "3          5.3\n",
            "4         16.0\n",
            "          ... \n",
            "199995     3.0\n",
            "199996     7.5\n",
            "199997    30.9\n",
            "199998    14.5\n",
            "199999    14.1\n",
            "Name: fare_amount, Length: 199268, dtype: float64>\n",
            "O desvio padrão da coluna pickup_longitude é:\n",
            "11.43423353099461\n",
            "O desvio padrão da coluna pickup_latitude é:\n",
            "7.723680053491193\n",
            "O desvio padrão da coluna dropoff_longitude é:\n",
            "13.119047136755109\n",
            "O desvio padrão da coluna dropoff_latitude é:\n",
            "6.7941626378946545\n",
            "O desvio padrão da coluna passenger_count é:\n",
            "1.3053868189330577\n"
          ]
        }
      ]
    },
    {
      "cell_type": "markdown",
      "source": [
        "A **Amplitude** é a diferença entre o valor máximo e o valor mínimo."
      ],
      "metadata": {
        "id": "4Fn4UJc2nRKM"
      }
    },
    {
      "cell_type": "code",
      "source": [
        "# amplitude\n",
        "amplitude_fare_amount = df['fare_amount'].max() - df['fare_amount'].min()\n",
        "amplitude_pickup_longitude = df['pickup_longitude'].max() - df['pickup_longitude'].min()\n",
        "amplitude_pickup_latitude = df['pickup_latitude'].max() - df['pickup_latitude'].min()\n",
        "amplitude_dropoff_longitude = df['dropoff_longitude'].max() - df['dropoff_longitude'].min()\n",
        "amplitude_dropoff_latitude = df['dropoff_latitude'].max() - df['dropoff_latitude'].min()\n",
        "amplitude_passenger_count = df['passenger_count'].max() - df['passenger_count'].min()\n",
        "print(f'A amplitude da coluna fare_amount é: {amplitude_fare_amount}')\n",
        "print(f'A amplitude da coluna pickup_longitude é: {amplitude_pickup_longitude}')\n",
        "print(f'A amplitude da coluna pickup_latitude é: {amplitude_pickup_latitude}')\n",
        "print(f'A amplitude da coluna dropoff_longitude é: {amplitude_dropoff_longitude}')\n",
        "print(f'A amplitude da coluna dropoff_latitude é: {amplitude_dropoff_latitude}')\n",
        "print(f'A amplitude da coluna passenger_count é: {amplitude_passenger_count}')"
      ],
      "metadata": {
        "colab": {
          "base_uri": "https://localhost:8080/"
        },
        "id": "10OHB6UWnU3w",
        "outputId": "f075ff2c-7d34-47c8-de17-c14c52c22b46"
      },
      "execution_count": 79,
      "outputs": [
        {
          "output_type": "stream",
          "name": "stdout",
          "text": [
            "A amplitude da coluna fare_amount é: 498.99\n",
            "A amplitude da coluna pickup_longitude é: 1398.066867\n",
            "A amplitude da coluna pickup_latitude é: 1718.436997\n",
            "A amplitude da coluna dropoff_longitude é: 4510.2389029999995\n",
            "A amplitude da coluna dropoff_latitude é: 1754.683141\n",
            "A amplitude da coluna passenger_count é: 5\n"
          ]
        }
      ]
    },
    {
      "cell_type": "markdown",
      "source": [
        "O **coeficiente de variação** é uma medida estatística que expressa o desvio padrão como uma porcentagem da média. Ele é usado para avaliar a variabilidade relativa de um conjunto de dados em relação à sua média."
      ],
      "metadata": {
        "id": "ye8dwjxYoYSf"
      }
    },
    {
      "cell_type": "code",
      "source": [
        "# coeficiente de variação:\n",
        "cv_fare_amount = df['fare_amount'].std() / df['fare_amount'].mean()\n",
        "cv_pickup_longitude = df['pickup_longitude'].std() / df['pickup_longitude'].mean()\n",
        "cv_pickup_latitude = df['pickup_latitude'].std() / df['pickup_latitude'].mean()\n",
        "cv_dropoff_longitude = df['dropoff_longitude'].std() / df['dropoff_longitude'].mean()\n",
        "cv_dropoff_latitude = df['dropoff_latitude'].std() / df['dropoff_latitude'].mean()\n",
        "cv_passenger_count = df['passenger_count'].std() / df['passenger_count'].mean()\n",
        "print(f'O coeficiente de variação da coluna fare_amount é: {cv_fare_amount}')\n",
        "print(f'O coeficiente de variação da coluna pickup_longitude é: {cv_pickup_longitude}')\n",
        "print(f'O coeficiente de variação da coluna pickup_latitude é: {cv_pickup_latitude}')\n",
        "print(f'O coeficiente de variação da coluna dropoff_longitude é: {cv_dropoff_longitude}')\n",
        "print(f'O coeficiente de variação da coluna dropoff_latitude é: {cv_dropoff_latitude}')\n",
        "print(f'O coeficiente de variação da coluna passenger_count é: {cv_passenger_count}')"
      ],
      "metadata": {
        "colab": {
          "base_uri": "https://localhost:8080/"
        },
        "id": "peTancmIoFfN",
        "outputId": "1ca3964a-741b-4aea-ce46-28d14e64cdaf"
      },
      "execution_count": 80,
      "outputs": [
        {
          "output_type": "stream",
          "name": "stdout",
          "text": [
            "O coeficiente de variação da coluna fare_amount é: 0.8712739244161666\n",
            "O coeficiente de variação da coluna pickup_longitude é: -0.1576480873310352\n",
            "O coeficiente de variação da coluna pickup_latitude é: 0.19339571782080905\n",
            "O coeficiente de variação da coluna dropoff_longitude é: -0.180882162213194\n",
            "O coeficiente de variação da coluna dropoff_latitude é: 0.1701716487198832\n",
            "O coeficiente de variação da coluna passenger_count é: 0.7726750273581618\n"
          ]
        }
      ]
    },
    {
      "cell_type": "markdown",
      "source": [
        "### Distribuição e frequência:\n",
        "\n"
      ],
      "metadata": {
        "id": "JAngal1JpGrH"
      }
    },
    {
      "cell_type": "markdown",
      "source": [
        "**Histogramas:** ajudam a visualizar a distribuição e frequência dos dados."
      ],
      "metadata": {
        "id": "TII_pTfwpaPS"
      }
    },
    {
      "cell_type": "code",
      "source": [
        "# Histogramas\n",
        "plt.figure(figsize=(10, 10))\n",
        "\n",
        "plt.subplot(3, 2, 1)\n",
        "plt.hist(df['fare_amount'], bins=40, color='lightblue', alpha=0.7)\n",
        "plt.title('Valor da tarifa em dólares')\n",
        "plt.xlabel('Valor')\n",
        "plt.ylabel('Frequência')\n",
        "\n",
        "plt.subplot(3, 2, 2)\n",
        "plt.hist(df['pickup_longitude'], bins=40, color='gray', alpha=0.7)\n",
        "plt.title('Longitude de partida')\n",
        "plt.xlabel('Longitude')\n",
        "plt.ylabel('Frequência')\n",
        "\n",
        "plt.subplot(3, 2, 3)\n",
        "plt.hist(df['pickup_latitude'], bins=40, color='green', alpha=0.7)\n",
        "plt.title('Latitude de partida')\n",
        "plt.xlabel('Latitude')\n",
        "plt.ylabel('Frequência')\n",
        "\n",
        "plt.subplot(3, 2, 4)\n",
        "plt.hist(df['dropoff_longitude'], bins=40, color='yellow', alpha=0.7)\n",
        "plt.title('Longitude de destino')\n",
        "plt.xlabel('Longitude')\n",
        "plt.ylabel('Frequência')\n",
        "\n",
        "plt.subplot(3, 2, 5)\n",
        "plt.hist(df['dropoff_latitude'], bins=40, color='purple', alpha=0.7)\n",
        "plt.title('Latitude de destino')\n",
        "plt.xlabel('Latitude')\n",
        "plt.ylabel('Frequência')\n",
        "\n",
        "plt.subplot(3, 2, 6)\n",
        "plt.hist(df['passenger_count'], bins=40, color='red', alpha=0.7)\n",
        "plt.title('Número de passageiros')\n",
        "plt.xlabel('Passageiros')\n",
        "plt.ylabel('Frequência')\n",
        "\n",
        "# Ajustar o layout para evitar sobreposição\n",
        "plt.tight_layout()\n",
        "\n",
        "# Exibir os gráficos\n",
        "plt.show()"
      ],
      "metadata": {
        "colab": {
          "base_uri": "https://localhost:8080/",
          "height": 1000
        },
        "id": "MS3Q1kTrphZS",
        "outputId": "7e83be51-54ce-49b8-a8d7-9a963f42941d"
      },
      "execution_count": 81,
      "outputs": [
        {
          "output_type": "display_data",
          "data": {
            "text/plain": [
              "<Figure size 1000x1000 with 6 Axes>"
            ],
            "image/png": "[encoded data removed]"
          },
          "metadata": {}
        }
      ]
    },
    {
      "cell_type": "markdown",
      "source": [
        "**Boxplot:** Facilitar a identificação da mediana, dos quartis e dos outliers."
      ],
      "metadata": {
        "id": "mD5LsVx0zGHR"
      }
    },
    {
      "cell_type": "code",
      "source": [
        "plt.figure(figsize=(10, 10))\n",
        "\n",
        "plt.subplot(3, 2, 1)\n",
        "sns.boxplot(x=df['fare_amount'], color='lightblue')\n",
        "plt.title('Valor da tarifa em dólares')\n",
        "plt.xlabel('Valor')\n",
        "\n",
        "plt.subplot(3, 2, 2)\n",
        "sns.boxplot(x=df['pickup_longitude'], color='gray')\n",
        "plt.title('Longitude de partida')\n",
        "plt.xlabel('Longitude')\n",
        "\n",
        "plt.subplot(3, 2, 3)\n",
        "sns.boxplot(x=df['pickup_latitude'], color='green')\n",
        "plt.title('Latitude de partida')\n",
        "plt.xlabel('Latitude')\n",
        "\n",
        "plt.subplot(3, 2, 4)\n",
        "sns.boxplot(x=df['dropoff_longitude'], color='yellow')\n",
        "plt.title('Longitude de destino')\n",
        "plt.xlabel('Longitude')\n",
        "\n",
        "plt.subplot(3, 2, 5)\n",
        "sns.boxplot(x=df['dropoff_latitude'], color='purple')\n",
        "plt.title('Latitude de destino')\n",
        "plt.xlabel('Latitude')\n",
        "\n",
        "plt.subplot(3, 2, 6)\n",
        "sns.boxplot(x=df['passenger_count'], color='red')\n",
        "plt.title('Número de passageiros')\n",
        "plt.xlabel('Passageiros')\n",
        "\n",
        "plt.tight_layout()\n",
        "plt.show()"
      ],
      "metadata": {
        "colab": {
          "base_uri": "https://localhost:8080/",
          "height": 1000
        },
        "id": "il0gC1i1zQ-s",
        "outputId": "78b0a823-75c3-4319-a21f-ffcf54a24abe"
      },
      "execution_count": 82,
      "outputs": [
        {
          "output_type": "display_data",
          "data": {
            "text/plain": [
              "<Figure size 1000x1000 with 6 Axes>"
            ],
            "image/png": "[encoded data removed]"
          },
          "metadata": {}
        }
      ]
    },
    {
      "cell_type": "markdown",
      "source": [
        "Nota-se que nos valores relacionados a latitudes e longitudes há a predominância de zero e números próximos a ele."
      ],
      "metadata": {
        "id": "Q2B3XXHQ4mI3"
      }
    },
    {
      "cell_type": "markdown",
      "source": [
        "### Gráficos de dispersão:\n"
      ],
      "metadata": {
        "id": "EAHTi6UPsoUJ"
      }
    },
    {
      "cell_type": "markdown",
      "source": [
        "são usados para analisar a relação entre duas variáveis."
      ],
      "metadata": {
        "id": "pwMnulj3sy3J"
      }
    },
    {
      "cell_type": "code",
      "source": [
        "# Relação entre fare_amount e passenger_count\n",
        "plt.figure(figsize=(8, 8))\n",
        "plt.subplot(1, 2, 1)\n",
        "plt.scatter(df['fare_amount'], df['passenger_count'], color='lightblue', alpha=0.7)\n",
        "plt.title('Relação entre tarifa e passageiros')\n",
        "plt.xlabel('Tarifa')\n",
        "plt.ylabel('Passageiros')\n",
        "\n",
        "# Relação entre pickup_longitude e dropoff_longitude\n",
        "\n",
        "plt.subplot(1, 2, 2)\n",
        "plt.scatter(df['pickup_longitude'], df['dropoff_longitude'], color='gray', alpha=0.7)\n",
        "plt.title('Relação entre longitude de partida e longitude de destino')\n",
        "plt.xlabel ('Longitude de partida')\n",
        "plt.ylabel('Longitude de destino')\n",
        "\n",
        "plt.tight_layout()\n",
        "plt.show()\n"
      ],
      "metadata": {
        "colab": {
          "base_uri": "https://localhost:8080/",
          "height": 807
        },
        "id": "fc0tX3Wjs2L8",
        "outputId": "00b7777b-3470-4991-977f-d7e41a6f4a0c"
      },
      "execution_count": 83,
      "outputs": [
        {
          "output_type": "display_data",
          "data": {
            "text/plain": [
              "<Figure size 800x800 with 2 Axes>"
            ],
            "image/png": "[encoded data removed]"
          },
          "metadata": {}
        }
      ]
    },
    {
      "cell_type": "markdown",
      "source": [
        "### Correlações:"
      ],
      "metadata": {
        "id": "ix3H8rUuzY0i"
      }
    },
    {
      "cell_type": "markdown",
      "source": [
        "Medir o grau de associação entre as variáveis no conjunto de dados."
      ],
      "metadata": {
        "id": "o008gxW-zaeo"
      }
    },
    {
      "cell_type": "code",
      "source": [
        "# correlações entre fare_amount e passenger_count:\n",
        "corr_fare_amount_passenger_count = df[['fare_amount', 'passenger_count']].corr()\n",
        "print(corr_fare_amount_passenger_count)"
      ],
      "metadata": {
        "id": "08Dhf_xuzYiX",
        "colab": {
          "base_uri": "https://localhost:8080/"
        },
        "outputId": "af42e1d9-e0f8-4f8a-bb9a-8dda6221688c"
      },
      "execution_count": 84,
      "outputs": [
        {
          "output_type": "stream",
          "name": "stdout",
          "text": [
            "                 fare_amount  passenger_count\n",
            "fare_amount         1.000000         0.010175\n",
            "passenger_count     0.010175         1.000000\n"
          ]
        }
      ]
    },
    {
      "cell_type": "code",
      "source": [
        "#mapa de calor:\n",
        "sns.heatmap(corr_fare_amount_passenger_count, annot=True, cmap='coolwarm')\n",
        "plt.show()"
      ],
      "metadata": {
        "colab": {
          "base_uri": "https://localhost:8080/",
          "height": 435
        },
        "id": "P4LK497K95FF",
        "outputId": "a61ddb1a-94b6-4c8d-e6d1-2ff8d3b051c7"
      },
      "execution_count": 85,
      "outputs": [
        {
          "output_type": "display_data",
          "data": {
            "text/plain": [
              "<Figure size 640x480 with 2 Axes>"
            ],
            "image/png": "[encoded data removed]"
          },
          "metadata": {}
        }
      ]
    },
    {
      "cell_type": "code",
      "source": [
        "# correlações entre fare_amount, pickup_longitude e dropoff_longitude:\n",
        "corr_fare_amount_pickup_longitude_dropoff_longitude = df[['fare_amount', 'pickup_longitude', 'dropoff_longitude']].corr()\n",
        "print(corr_fare_amount_pickup_longitude_dropoff_longitude)"
      ],
      "metadata": {
        "colab": {
          "base_uri": "https://localhost:8080/"
        },
        "id": "8QcSaP8E_Y-x",
        "outputId": "2b2c64f0-dab6-4b91-fb48-81964fa7c85a"
      },
      "execution_count": 86,
      "outputs": [
        {
          "output_type": "stream",
          "name": "stdout",
          "text": [
            "                   fare_amount  pickup_longitude  dropoff_longitude\n",
            "fare_amount           1.000000          0.010420           0.009064\n",
            "pickup_longitude      0.010420          1.000000           0.833047\n",
            "dropoff_longitude     0.009064          0.833047           1.000000\n"
          ]
        }
      ]
    },
    {
      "cell_type": "code",
      "source": [
        "# mapa de calor\n",
        "sns.heatmap(corr_fare_amount_pickup_longitude_dropoff_longitude, annot=True, cmap='coolwarm')\n",
        "plt.show()"
      ],
      "metadata": {
        "colab": {
          "base_uri": "https://localhost:8080/",
          "height": 435
        },
        "id": "9E4J4_15Cdmr",
        "outputId": "32927f91-fdc2-4159-c896-64abb6b34dbb"
      },
      "execution_count": 87,
      "outputs": [
        {
          "output_type": "display_data",
          "data": {
            "text/plain": [
              "<Figure size 640x480 with 2 Axes>"
            ],
            "image/png": "[encoded data removed]"
          },
          "metadata": {}
        }
      ]
    },
    {
      "cell_type": "markdown",
      "source": [
        "### Anomalias e outliers:"
      ],
      "metadata": {
        "id": "Nhf8ZE-YCrfO"
      }
    },
    {
      "cell_type": "markdown",
      "source": [
        "Identificar observações que se afastam drasticamente do padrão geral dos dados."
      ],
      "metadata": {
        "id": "nyk_13r-C_1M"
      }
    },
    {
      "cell_type": "code",
      "source": [
        "# outliers em fare_amount:\n",
        "Q1 = df['fare_amount'].quantile(0.25)\n",
        "Q3 = df['fare_amount'].quantile(0.75)\n",
        "IQR = Q3 - Q1\n",
        "\n",
        "limite_inferior = Q1 - 1.5 * IQR\n",
        "limite_superior = Q3 + 1.5 * IQR\n",
        "\n",
        "outliers_fare_amount = df[(df['fare_amount'] < Q1 - 1.5 * IQR) | (df['fare_amount'] > Q3 + 1.5 * IQR)]\n",
        "\n",
        "print('Limite inferior:', limite_inferior)\n",
        "print('Limite superior:', limite_superior)\n",
        "print(outliers_fare_amount)\n"
      ],
      "metadata": {
        "colab": {
          "base_uri": "https://localhost:8080/"
        },
        "id": "V-M6T3HrDBE7",
        "outputId": "7a278857-11e4-45fd-cf1e-d214aac2c175"
      },
      "execution_count": 88,
      "outputs": [
        {
          "output_type": "stream",
          "name": "stdout",
          "text": [
            "Limite inferior: -3.75\n",
            "Limite superior: 22.25\n",
            "                                  key  fare_amount           pickup_datetime  \\\n",
            "6         2014-10-12 07:04:00.0000002        24.50 2014-10-12 07:04:00+00:00   \n",
            "30       2011-05-21 09:00:00.00000031        25.70 2011-05-21 09:00:00+00:00   \n",
            "34      2014-06-04 06:49:00.000000102        39.50 2014-06-04 06:49:00+00:00   \n",
            "39      2014-02-13 17:57:00.000000102        29.00 2014-02-13 17:57:00+00:00   \n",
            "48        2013-01-03 22:24:41.0000002        56.80 2013-01-03 22:24:41+00:00   \n",
            "...                               ...          ...                       ...   \n",
            "199976  2011-10-18 23:53:00.000000145        49.70 2011-10-18 23:53:00+00:00   \n",
            "199977    2012-11-20 21:04:30.0000001        43.50 2012-11-20 21:04:30+00:00   \n",
            "199982    2014-08-06 11:06:06.0000001        57.33 2014-08-06 11:06:06+00:00   \n",
            "199985    2015-04-18 15:16:06.0000005        24.00 2015-04-18 15:16:06+00:00   \n",
            "199997   2009-06-29 00:42:00.00000078        30.90 2009-06-29 00:42:00+00:00   \n",
            "\n",
            "        pickup_longitude  pickup_latitude  dropoff_longitude  \\\n",
            "6             -73.961447        40.693965         -73.871195   \n",
            "30            -73.944815        40.834367         -73.989332   \n",
            "34            -73.788080        40.642187         -73.865042   \n",
            "39            -73.992600        40.753172         -73.908508   \n",
            "48            -73.993498        40.764686         -73.993498   \n",
            "...                  ...              ...                ...   \n",
            "199976        -73.978225        40.783318         -73.700963   \n",
            "199977        -73.996671        40.737483         -73.867758   \n",
            "199982        -73.969204        40.754771         -73.790351   \n",
            "199985        -74.005089        40.737301         -73.945290   \n",
            "199997        -73.986017        40.756487         -73.858957   \n",
            "\n",
            "        dropoff_latitude  passenger_count  \n",
            "6              40.774297                5  \n",
            "30             40.721920                4  \n",
            "34             40.725997                4  \n",
            "39             40.816192                1  \n",
            "48             40.764686                1  \n",
            "...                  ...              ...  \n",
            "199976         40.705852                1  \n",
            "199977         40.897563                1  \n",
            "199982         40.643802                1  \n",
            "199985         40.774162                5  \n",
            "199997         40.692588                2  \n",
            "\n",
            "[17121 rows x 8 columns]\n"
          ]
        }
      ]
    },
    {
      "cell_type": "code",
      "source": [
        "# outliers em passenger_count:\n",
        "Q1 = df['passenger_count'].quantile(0.25)\n",
        "Q3 = df['passenger_count'].quantile(0.75)\n",
        "IQR = Q3 - Q1\n",
        "\n",
        "limite_inferior = Q1 - 1.5 * IQR\n",
        "limite_superior = Q3 + 1.5 * IQR\n",
        "\n",
        "outliers_passenger_count = df[(df['passenger_count'] < Q1 - 1.5 * IQR) | (df['passenger_count'] > Q3 + 1.5 * IQR)]\n",
        "\n",
        "print('Limite inferior:', limite_inferior)\n",
        "print('Limite superior:', limite_superior)\n",
        "print(outliers_passenger_count)"
      ],
      "metadata": {
        "colab": {
          "base_uri": "https://localhost:8080/"
        },
        "id": "7j3qoDwhFWAf",
        "outputId": "d1a94f74-9d8d-49b9-bcf9-e1a42cf514bc"
      },
      "execution_count": 89,
      "outputs": [
        {
          "output_type": "stream",
          "name": "stdout",
          "text": [
            "Limite inferior: -0.5\n",
            "Limite superior: 3.5\n",
            "                                  key  fare_amount           pickup_datetime  \\\n",
            "4       2014-08-28 17:47:00.000000188         16.0 2014-08-28 17:47:00+00:00   \n",
            "6         2014-10-12 07:04:00.0000002         24.5 2014-10-12 07:04:00+00:00   \n",
            "12      2011-05-17 14:03:00.000000158          3.3 2011-05-17 14:03:00+00:00   \n",
            "24      2010-05-12 22:32:00.000000200         12.9 2010-05-12 22:32:00+00:00   \n",
            "29       2011-12-24 02:52:00.00000056          7.3 2011-12-24 02:52:00+00:00   \n",
            "...                               ...          ...                       ...   \n",
            "199958   2012-08-25 20:25:00.00000042         15.7 2012-08-25 20:25:00+00:00   \n",
            "199959  2011-07-05 18:51:00.000000133          8.1 2011-07-05 18:51:00+00:00   \n",
            "199962   2010-01-23 22:38:00.00000031         11.7 2010-01-23 22:38:00+00:00   \n",
            "199969   2013-05-18 21:14:00.00000063         14.0 2013-05-18 21:14:00+00:00   \n",
            "199985    2015-04-18 15:16:06.0000005         24.0 2015-04-18 15:16:06+00:00   \n",
            "\n",
            "        pickup_longitude  pickup_latitude  dropoff_longitude  \\\n",
            "4             -73.925023        40.744085         -73.973082   \n",
            "6             -73.961447        40.693965         -73.871195   \n",
            "12            -73.966378        40.804440         -73.965890   \n",
            "24            -73.972987        40.764040         -74.007820   \n",
            "29            -73.971075        40.787833         -73.944957   \n",
            "...                  ...              ...                ...   \n",
            "199958        -73.995317        40.736752         -73.977312   \n",
            "199959        -74.006553        40.742435         -73.978908   \n",
            "199962        -74.007340        40.707123         -73.986033   \n",
            "199969        -73.973355        40.754322         -73.999122   \n",
            "199985        -74.005089        40.737301         -73.945290   \n",
            "\n",
            "        dropoff_latitude  passenger_count  \n",
            "4              40.761247                5  \n",
            "6              40.774297                5  \n",
            "12             40.807133                5  \n",
            "24             40.714993                5  \n",
            "29             40.784302                5  \n",
            "...                  ...              ...  \n",
            "199958         40.784565                5  \n",
            "199959         40.740537                5  \n",
            "199962         40.743953                4  \n",
            "199969         40.743042                5  \n",
            "199985         40.774162                5  \n",
            "\n",
            "[22552 rows x 8 columns]\n"
          ]
        }
      ]
    },
    {
      "cell_type": "code",
      "source": [
        "# outliers em pickup_longitude:\n",
        "Q1 = df['pickup_longitude'].quantile(0.25)\n",
        "Q3 = df['pickup_longitude'].quantile(0.75)\n",
        "IQR = Q3 - Q1\n",
        "\n",
        "limite_inferior = Q1 - 1.5 * IQR\n",
        "limite_superior = Q3 + 1.5 * IQR\n",
        "\n",
        "outliers_pickup_longitude = df[(df['pickup_longitude'] < Q1 - 1.5 * IQR) | (df['pickup_longitude'] > Q3 + 1.5 * IQR)]\n",
        "\n",
        "print('Limite inferior:', limite_inferior)\n",
        "print('Limite superior:', limite_superior)\n",
        "print(outliers_pickup_longitude)\n"
      ],
      "metadata": {
        "colab": {
          "base_uri": "https://localhost:8080/"
        },
        "id": "OdFq9LpAGIeP",
        "outputId": "4e1fa6ba-ba38-462b-9759-b2753a4b25ca"
      },
      "execution_count": 90,
      "outputs": [
        {
          "output_type": "stream",
          "name": "stdout",
          "text": [
            "Limite inferior: -74.02942024999999\n",
            "Limite superior: -73.92980625000001\n",
            "                                  key  fare_amount           pickup_datetime  \\\n",
            "4       2014-08-28 17:47:00.000000188         16.0 2014-08-28 17:47:00+00:00   \n",
            "7        2012-12-11 13:52:00.00000029          2.5 2012-12-11 13:52:00+00:00   \n",
            "11       2011-05-23 22:15:00.00000086          8.5 2011-05-23 22:15:00+00:00   \n",
            "34      2014-06-04 06:49:00.000000102         39.5 2014-06-04 06:49:00+00:00   \n",
            "65       2014-05-05 19:27:00.00000034          6.0 2014-05-05 19:27:00+00:00   \n",
            "...                               ...          ...                       ...   \n",
            "199936   2012-07-21 16:19:00.00000099          4.1 2012-07-21 16:19:00+00:00   \n",
            "199937  2011-04-24 20:03:00.000000118         28.1 2011-04-24 20:03:00+00:00   \n",
            "199960    2014-12-31 20:57:05.0000001         24.5 2014-12-31 20:57:05+00:00   \n",
            "199963    2012-09-22 07:46:01.0000002         39.0 2012-09-22 07:46:01+00:00   \n",
            "199972    2010-08-20 13:19:55.0000001         45.0 2010-08-20 13:19:55+00:00   \n",
            "\n",
            "        pickup_longitude  pickup_latitude  dropoff_longitude  \\\n",
            "4             -73.925023        40.744085         -73.973082   \n",
            "7               0.000000         0.000000           0.000000   \n",
            "11              0.000000         0.000000           0.000000   \n",
            "34            -73.788080        40.642187         -73.865042   \n",
            "65              0.000000         0.000000           0.000000   \n",
            "...                  ...              ...                ...   \n",
            "199936       -736.400000        40.774307         -73.982215   \n",
            "199937        -73.873040        40.774085         -73.984483   \n",
            "199960        -73.920354        40.847114         -73.994382   \n",
            "199963          0.000000         0.000000           0.000000   \n",
            "199972        -73.786833        40.639842         -74.001215   \n",
            "\n",
            "        dropoff_latitude  passenger_count  \n",
            "4              40.761247                5  \n",
            "7               0.000000                1  \n",
            "11              0.000000                1  \n",
            "34             40.725997                4  \n",
            "65              0.000000                1  \n",
            "...                  ...              ...  \n",
            "199936         40.769672                5  \n",
            "199937         40.683400                5  \n",
            "199960         40.761012                1  \n",
            "199963          0.000000                1  \n",
            "199972         40.722429                1  \n",
            "\n",
            "[13520 rows x 8 columns]\n"
          ]
        }
      ]
    },
    {
      "cell_type": "code",
      "source": [
        "# outliers em pickup_latitude:\n",
        "Q1 = df['pickup_latitude'].quantile(0.25)\n",
        "Q2 = df['pickup_latitude'].quantile(0.5)\n",
        "Q3 = df['pickup_latitude'].quantile(0.75)\n",
        "IQR = Q3 - Q1\n",
        "\n",
        "limite_inferior = Q1 - 1.5 * IQR\n",
        "limite_superior = Q3 + 1.5 * IQR\n",
        "\n",
        "outliers_pickup_latitude = df[(df['pickup_latitude'] < Q1 - 1.5 * IQR) | (df['pickup_latitude'] > Q3 + 1.5 * IQR)]\n",
        "\n",
        "print('Limite inferior:', limite_inferior)\n",
        "print('Limite superior:', limite_superior)\n",
        "print(outliers_pickup_latitude)"
      ],
      "metadata": {
        "colab": {
          "base_uri": "https://localhost:8080/"
        },
        "id": "PuNqDh0rGZEF",
        "outputId": "bbf535cf-2687-43e5-ae9a-170473deec44"
      },
      "execution_count": 91,
      "outputs": [
        {
          "output_type": "stream",
          "name": "stdout",
          "text": [
            "Limite inferior: 40.68625387500001\n",
            "Limite superior: 40.81569887499999\n",
            "                                  key  fare_amount           pickup_datetime  \\\n",
            "7        2012-12-11 13:52:00.00000029          2.5 2012-12-11 13:52:00+00:00   \n",
            "11       2011-05-23 22:15:00.00000086          8.5 2011-05-23 22:15:00+00:00   \n",
            "30       2011-05-21 09:00:00.00000031         25.7 2011-05-21 09:00:00+00:00   \n",
            "34      2014-06-04 06:49:00.000000102         39.5 2014-06-04 06:49:00+00:00   \n",
            "53        2012-12-09 02:12:29.0000004          7.5 2012-12-09 02:12:29+00:00   \n",
            "...                               ...          ...                       ...   \n",
            "199917    2013-06-24 22:17:43.0000002          4.5 2013-06-24 22:17:43+00:00   \n",
            "199926    2015-05-30 08:30:28.0000003         33.0 2015-05-30 08:30:28+00:00   \n",
            "199960    2014-12-31 20:57:05.0000001         24.5 2014-12-31 20:57:05+00:00   \n",
            "199963    2012-09-22 07:46:01.0000002         39.0 2012-09-22 07:46:01+00:00   \n",
            "199972    2010-08-20 13:19:55.0000001         45.0 2010-08-20 13:19:55+00:00   \n",
            "\n",
            "        pickup_longitude  pickup_latitude  dropoff_longitude  \\\n",
            "7               0.000000         0.000000           0.000000   \n",
            "11              0.000000         0.000000           0.000000   \n",
            "30            -73.944815        40.834367         -73.989332   \n",
            "34            -73.788080        40.642187         -73.865042   \n",
            "53            -73.937809        40.850558         -73.944454   \n",
            "...                  ...              ...                ...   \n",
            "199917        -73.793768        40.656939         -73.793768   \n",
            "199926        -73.782684        40.644417         -73.950920   \n",
            "199960        -73.920354        40.847114         -73.994382   \n",
            "199963          0.000000         0.000000           0.000000   \n",
            "199972        -73.786833        40.639842         -74.001215   \n",
            "\n",
            "        dropoff_latitude  passenger_count  \n",
            "7               0.000000                1  \n",
            "11              0.000000                1  \n",
            "30             40.721920                4  \n",
            "34             40.725997                4  \n",
            "53             40.834959                1  \n",
            "...                  ...              ...  \n",
            "199917         40.656939                1  \n",
            "199926         40.677715                1  \n",
            "199960         40.761012                1  \n",
            "199963          0.000000                1  \n",
            "199972         40.722429                1  \n",
            "\n",
            "[9384 rows x 8 columns]\n"
          ]
        }
      ]
    },
    {
      "cell_type": "code",
      "source": [
        "# outliers em dropoff_longitude:\n",
        "Q1 = df['dropoff_longitude'].quantile(0.25)\n",
        "Q3 = df['dropoff_longitude'].quantile(0.75)\n",
        "IQR = Q3 - Q1\n",
        "\n",
        "limite_inferior = Q1 - 1.5 * IQR\n",
        "limite_superior = Q3 + 1.5 * IQR\n",
        "\n",
        "outliers_dropoff_longitude = df[(df['dropoff_longitude'] < Q1 - 1.5 * IQR) | (df['dropoff_longitude'] > Q3 + 1.5 * IQR)]\n",
        "\n",
        "print('Limite inferior:', limite_inferior)\n",
        "print('Limite superior:', limite_superior)\n",
        "print(outliers_dropoff_longitude)"
      ],
      "metadata": {
        "colab": {
          "base_uri": "https://localhost:8080/"
        },
        "id": "lwT8D197GtEP",
        "outputId": "35a42047-0dc0-497d-b50e-09e3d946a56c"
      },
      "execution_count": 92,
      "outputs": [
        {
          "output_type": "stream",
          "name": "stdout",
          "text": [
            "Limite inferior: -74.03302900000001\n",
            "Limite superior: -73.92204499999998\n",
            "                                  key  fare_amount           pickup_datetime  \\\n",
            "6         2014-10-12 07:04:00.0000002        24.50 2014-10-12 07:04:00+00:00   \n",
            "7        2012-12-11 13:52:00.00000029         2.50 2012-12-11 13:52:00+00:00   \n",
            "11       2011-05-23 22:15:00.00000086         8.50 2011-05-23 22:15:00+00:00   \n",
            "34      2014-06-04 06:49:00.000000102        39.50 2014-06-04 06:49:00+00:00   \n",
            "39      2014-02-13 17:57:00.000000102        29.00 2014-02-13 17:57:00+00:00   \n",
            "...                               ...          ...                       ...   \n",
            "199965    2013-03-24 15:25:56.0000003        34.94 2013-03-24 15:25:56+00:00   \n",
            "199976  2011-10-18 23:53:00.000000145        49.70 2011-10-18 23:53:00+00:00   \n",
            "199977    2012-11-20 21:04:30.0000001        43.50 2012-11-20 21:04:30+00:00   \n",
            "199982    2014-08-06 11:06:06.0000001        57.33 2014-08-06 11:06:06+00:00   \n",
            "199997   2009-06-29 00:42:00.00000078        30.90 2009-06-29 00:42:00+00:00   \n",
            "\n",
            "        pickup_longitude  pickup_latitude  dropoff_longitude  \\\n",
            "6             -73.961447        40.693965         -73.871195   \n",
            "7               0.000000         0.000000           0.000000   \n",
            "11              0.000000         0.000000           0.000000   \n",
            "34            -73.788080        40.642187         -73.865042   \n",
            "39            -73.992600        40.753172         -73.908508   \n",
            "...                  ...              ...                ...   \n",
            "199965        -73.979663        40.766310         -73.901523   \n",
            "199976        -73.978225        40.783318         -73.700963   \n",
            "199977        -73.996671        40.737483         -73.867758   \n",
            "199982        -73.969204        40.754771         -73.790351   \n",
            "199997        -73.986017        40.756487         -73.858957   \n",
            "\n",
            "        dropoff_latitude  passenger_count  \n",
            "6              40.774297                5  \n",
            "7               0.000000                1  \n",
            "11              0.000000                1  \n",
            "34             40.725997                4  \n",
            "39             40.816192                1  \n",
            "...                  ...              ...  \n",
            "199965         40.902372                1  \n",
            "199976         40.705852                1  \n",
            "199977         40.897563                1  \n",
            "199982         40.643802                1  \n",
            "199997         40.692588                2  \n",
            "\n",
            "[14153 rows x 8 columns]\n"
          ]
        }
      ]
    },
    {
      "cell_type": "code",
      "source": [
        "# outliers em dropff_latitude:\n",
        "Q1 = df['dropoff_latitude'].quantile(0.25)\n",
        "Q3 = df['dropoff_latitude'].quantile(0.75)\n",
        "IQR = Q3 - Q1\n",
        "\n",
        "limite_inferior = Q1 - 1.5 * IQR\n",
        "limite_superior = Q3 - 1.5 * IQR\n",
        "\n",
        "outliers_dropoff_latitude = df[(df['dropoff_latitude'] < Q1 - 1.5 * IQR) | (df['dropoff_latitude'] > Q3 + 1.5 * IQR)]\n",
        "\n",
        "print('Limite inferior:', limite_inferior)\n",
        "print('Limite superior:', limite_superior)\n",
        "print(outliers_dropoff_latitude)"
      ],
      "metadata": {
        "colab": {
          "base_uri": "https://localhost:8080/"
        },
        "id": "RN1exnVpHpQf",
        "outputId": "b6bf9760-a557-4e5c-851e-41f34f6cbb4e"
      },
      "execution_count": 93,
      "outputs": [
        {
          "output_type": "stream",
          "name": "stdout",
          "text": [
            "Limite inferior: 40.68257687500001\n",
            "Limite superior: 40.716744125000005\n",
            "                                 key  fare_amount           pickup_datetime  \\\n",
            "7       2012-12-11 13:52:00.00000029         2.50 2012-12-11 13:52:00+00:00   \n",
            "11      2011-05-23 22:15:00.00000086         8.50 2011-05-23 22:15:00+00:00   \n",
            "53       2012-12-09 02:12:29.0000004         7.50 2012-12-09 02:12:29+00:00   \n",
            "65      2014-05-05 19:27:00.00000034         6.00 2014-05-05 19:27:00+00:00   \n",
            "82       2012-06-24 01:35:45.0000006        26.10 2012-06-24 01:35:45+00:00   \n",
            "...                              ...          ...                       ...   \n",
            "199926   2015-05-30 08:30:28.0000003        33.00 2015-05-30 08:30:28+00:00   \n",
            "199963   2012-09-22 07:46:01.0000002        39.00 2012-09-22 07:46:01+00:00   \n",
            "199965   2013-03-24 15:25:56.0000003        34.94 2013-03-24 15:25:56+00:00   \n",
            "199977   2012-11-20 21:04:30.0000001        43.50 2012-11-20 21:04:30+00:00   \n",
            "199982   2014-08-06 11:06:06.0000001        57.33 2014-08-06 11:06:06+00:00   \n",
            "\n",
            "        pickup_longitude  pickup_latitude  dropoff_longitude  \\\n",
            "7               0.000000         0.000000           0.000000   \n",
            "11              0.000000         0.000000           0.000000   \n",
            "53            -73.937809        40.850558         -73.944454   \n",
            "65              0.000000         0.000000           0.000000   \n",
            "82            -73.976132        40.744211         -73.904950   \n",
            "...                  ...              ...                ...   \n",
            "199926        -73.782684        40.644417         -73.950920   \n",
            "199963          0.000000         0.000000           0.000000   \n",
            "199965        -73.979663        40.766310         -73.901523   \n",
            "199977        -73.996671        40.737483         -73.867758   \n",
            "199982        -73.969204        40.754771         -73.790351   \n",
            "\n",
            "        dropoff_latitude  passenger_count  \n",
            "7               0.000000                1  \n",
            "11              0.000000                1  \n",
            "53             40.834959                1  \n",
            "65              0.000000                1  \n",
            "82             40.876687                2  \n",
            "...                  ...              ...  \n",
            "199926         40.677715                1  \n",
            "199963          0.000000                1  \n",
            "199965         40.902372                1  \n",
            "199977         40.897563                1  \n",
            "199982         40.643802                1  \n",
            "\n",
            "[12095 rows x 8 columns]\n"
          ]
        }
      ]
    },
    {
      "cell_type": "markdown",
      "source": [
        "### Tratando e substituindo os valores 0.0 em pickup_longitude, pickup_latitude, dropoff_longitude, dropoff_latitude:"
      ],
      "metadata": {
        "id": "fp9nB12DIyL-"
      }
    },
    {
      "cell_type": "markdown",
      "source": [
        "Se você identificar valores 0.0, uma abordagem comum é substituí-los pela mediana ou média das outras coordenadas válidas. A mediana geralmente é preferida para evitar o impacto de valores extremos (outliers)."
      ],
      "metadata": {
        "id": "M9sI7mouOREU"
      }
    },
    {
      "cell_type": "code",
      "source": [
        "# Substituir valores 0.0 ou fora do intervalo válido com a mediana da coluna\n",
        "\n",
        "# Substituir para pickup_longitude\n",
        "df['pickup_longitude'] = df['pickup_longitude'].apply(\n",
        "    lambda x: df['pickup_longitude'].median() if x == 0.0 or x < -180 or x > 180 else x\n",
        ")\n",
        "\n",
        "# Substituir para pickup_latitude\n",
        "df['pickup_latitude'] = df['pickup_latitude'].apply(\n",
        "    lambda x: df['pickup_latitude'].median() if x == 0.0 or x < -90 or x > 90 else x\n",
        ")\n",
        "\n",
        "# Substituir para dropoff_longitude\n",
        "df['dropoff_longitude'] = df['dropoff_longitude'].apply(\n",
        "    lambda x: df['dropoff_longitude'].median() if x == 0.0 or x < -180 or x > 180 else x\n",
        ")\n",
        "\n",
        "# Substituir para dropoff_latitude\n",
        "df['dropoff_latitude'] = df['dropoff_latitude'].apply(\n",
        "    lambda x: df['dropoff_latitude'].median() if x == 0.0 or x < -90 or x > 90 else x\n",
        ")"
      ],
      "metadata": {
        "id": "7GIwuhuSOW7J"
      },
      "execution_count": 94,
      "outputs": []
    },
    {
      "cell_type": "markdown",
      "source": [
        "### Correlações nos conjuntos de dados desconsiderando os outliers e Mapas de calor:"
      ],
      "metadata": {
        "id": "2XFWRo3qROtl"
      }
    },
    {
      "cell_type": "markdown",
      "source": [
        "Agora, fazer uma nova correlação entre as variáveis:"
      ],
      "metadata": {
        "id": "gHS2iiVqPSwe"
      }
    },
    {
      "cell_type": "code",
      "source": [
        "# correlações entre fare_amount, pickup_longitude e dropoff_longitude sem os 0:\n",
        "corr_fare_amount_pickup_longitude_dropoff_longitude = df[['fare_amount', 'pickup_longitude', 'dropoff_longitude']].corr()\n",
        "print(corr_fare_amount_pickup_longitude_dropoff_longitude)"
      ],
      "metadata": {
        "colab": {
          "base_uri": "https://localhost:8080/"
        },
        "outputId": "6c248207-53de-4bcd-949c-dd06390f6e45",
        "id": "HxJ6Xj7zPgd3"
      },
      "execution_count": 95,
      "outputs": [
        {
          "output_type": "stream",
          "name": "stdout",
          "text": [
            "                   fare_amount  pickup_longitude  dropoff_longitude\n",
            "fare_amount            1.00000          0.010490           0.009080\n",
            "pickup_longitude       0.01049          1.000000           0.930346\n",
            "dropoff_longitude      0.00908          0.930346           1.000000\n"
          ]
        }
      ]
    },
    {
      "cell_type": "code",
      "source": [
        "plt.figure(figsize=(6, 4))\n",
        "sns.heatmap(corr_fare_amount_pickup_longitude_dropoff_longitude, annot=True, cmap='coolwarm', fmt=\".2f\", linewidths=0.5)\n",
        "plt.title(\"Correlação entre fare_amount, pickup_longitude e dropoff_longitude sem os 0\")\n",
        "plt.show()"
      ],
      "metadata": {
        "colab": {
          "base_uri": "https://localhost:8080/",
          "height": 391
        },
        "id": "fanhwQTcQOcu",
        "outputId": "bbe5db09-ab27-428c-8dfa-69ede8b01856"
      },
      "execution_count": 96,
      "outputs": [
        {
          "output_type": "display_data",
          "data": {
            "text/plain": [
              "<Figure size 600x400 with 2 Axes>"
            ],
            "image/png": "[encoded data removed]"
          },
          "metadata": {}
        }
      ]
    },
    {
      "cell_type": "code",
      "source": [
        "# Obtendo todos os índices dos outliers:\n",
        "outliers_indices = pd.concat([outliers_fare_amount, outliers_pickup_longitude,\n",
        "                              outliers_pickup_latitude, outliers_dropoff_longitude,\n",
        "                              outliers_dropoff_latitude, outliers_passenger_count]).index.drop_duplicates()\n",
        "# Criando um DataFrame sem os outliers identificados\n",
        "df_sem_outliers = df.drop(index=outliers_indices)"
      ],
      "metadata": {
        "id": "BtJ0KMVXRncL"
      },
      "execution_count": 97,
      "outputs": []
    },
    {
      "cell_type": "code",
      "source": [
        "# correlações entre fare_amount, pickup_longitude e dropoff_longitude sem o 0 e sem outlier:\n",
        "corr_fare_amount_pickup_longitude_dropoff_longitude_sem_outliers = df_sem_outliers[['fare_amount', 'pickup_longitude', 'dropoff_longitude']].corr()\n",
        "print(corr_fare_amount_pickup_longitude_dropoff_longitude_sem_outliers)"
      ],
      "metadata": {
        "colab": {
          "base_uri": "https://localhost:8080/"
        },
        "id": "3JmZ5JdoT45m",
        "outputId": "67f65d39-fdf4-4fcf-84ad-6339e3a7e960"
      },
      "execution_count": 98,
      "outputs": [
        {
          "output_type": "stream",
          "name": "stdout",
          "text": [
            "                   fare_amount  pickup_longitude  dropoff_longitude\n",
            "fare_amount           1.000000         -0.055961           0.004684\n",
            "pickup_longitude     -0.055961          1.000000           0.405777\n",
            "dropoff_longitude     0.004684          0.405777           1.000000\n"
          ]
        }
      ]
    },
    {
      "cell_type": "code",
      "source": [
        "# Mapa de calor:\n",
        "plt.figure(figsize=(6, 4))\n",
        "sns.heatmap(corr_fare_amount_pickup_longitude_dropoff_longitude_sem_outliers, annot=True, cmap='coolwarm', fmt=\".2f\", linewidths=0.5)"
      ],
      "metadata": {
        "colab": {
          "base_uri": "https://localhost:8080/",
          "height": 391
        },
        "id": "yOXw_U7BUOdx",
        "outputId": "cb964097-62eb-414b-db16-632ed14ddecd"
      },
      "execution_count": 99,
      "outputs": [
        {
          "output_type": "execute_result",
          "data": {
            "text/plain": [
              "<Axes: >"
            ]
          },
          "metadata": {},
          "execution_count": 99
        },
        {
          "output_type": "display_data",
          "data": {
            "text/plain": [
              "<Figure size 600x400 with 2 Axes>"
            ],
            "image/png": "[encoded data removed]"
          },
          "metadata": {}
        }
      ]
    },
    {
      "cell_type": "markdown",
      "source": [
        "Observando a correlação entre pickup_longitude e dropoff_longitude (0.405777): O valor indica uma correlação moderada positiva. Isso sugere que os pontos de partida e destino tendem a estar alinhados em longitude, o que faz sentido geograficamente (por exemplo, corridas em áreas urbanas com longitudes semelhantes)."
      ],
      "metadata": {
        "id": "SSUuaRzZUw8x"
      }
    },
    {
      "cell_type": "code",
      "source": [
        "# Calculando a correlação entre fare_amount, passenger_count sem outliers:\n",
        "corre_fare_amount_passenger_count = df_sem_outliers[['fare_amount', 'passenger_count']].corr()\n",
        "print(corre_fare_amount_passenger_count)"
      ],
      "metadata": {
        "colab": {
          "base_uri": "https://localhost:8080/"
        },
        "id": "Gi_HWO4ESeEA",
        "outputId": "9df63f3f-1d0b-4fca-ec29-a6a8f1cb6691"
      },
      "execution_count": 100,
      "outputs": [
        {
          "output_type": "stream",
          "name": "stdout",
          "text": [
            "                 fare_amount  passenger_count\n",
            "fare_amount         1.000000         0.016734\n",
            "passenger_count     0.016734         1.000000\n"
          ]
        }
      ]
    },
    {
      "cell_type": "code",
      "source": [
        "# mapas de calor:\n",
        "plt.figure(figsize=(6, 4))\n",
        "sns.heatmap(corre_fare_amount_passenger_count, annot=True, cmap='coolwarm', fmt=\".2f\", linewidths=0.5)"
      ],
      "metadata": {
        "colab": {
          "base_uri": "https://localhost:8080/",
          "height": 391
        },
        "id": "Q9YStqdyTFaa",
        "outputId": "04297744-d684-40d7-c8fa-b37ed96cc932"
      },
      "execution_count": 101,
      "outputs": [
        {
          "output_type": "execute_result",
          "data": {
            "text/plain": [
              "<Axes: >"
            ]
          },
          "metadata": {},
          "execution_count": 101
        },
        {
          "output_type": "display_data",
          "data": {
            "text/plain": [
              "<Figure size 600x400 with 2 Axes>"
            ],
            "image/png": "[encoded data removed]"
          },
          "metadata": {}
        }
      ]
    },
    {
      "cell_type": "markdown",
      "source": [
        "### Identificar se há tarifas negativas:"
      ],
      "metadata": {
        "id": "Jhxg18P3vDsv"
      }
    },
    {
      "cell_type": "code",
      "source": [
        "# Verificar número de valores negativos\n",
        "tarifas_negativas = df[df['fare_amount'] < 0]\n",
        "print(f\"Número de tarifas negativas: {len(tarifas_negativas)}\")\n"
      ],
      "metadata": {
        "colab": {
          "base_uri": "https://localhost:8080/"
        },
        "id": "yU-WEuzhugrN",
        "outputId": "67f926a1-0a99-4aa3-b5e5-629da1e8ae97"
      },
      "execution_count": 102,
      "outputs": [
        {
          "output_type": "stream",
          "name": "stdout",
          "text": [
            "Número de tarifas negativas: 0\n"
          ]
        }
      ]
    },
    {
      "cell_type": "markdown",
      "source": [
        "não há tarifas negativas."
      ],
      "metadata": {
        "id": "1zJHjdyww8C0"
      }
    },
    {
      "cell_type": "markdown",
      "source": [
        "### Criando novas variáveis no conjunto de dados:"
      ],
      "metadata": {
        "id": "rmHL-4PaxQxV"
      }
    },
    {
      "cell_type": "code",
      "source": [
        "# Categorizar as tarifas em faixas\n",
        "df['price_category'] = pd.cut(df['fare_amount'],\n",
        "                              bins=[0, 10, 20, 50, 100, float('inf')],\n",
        "                              labels=['0-10', '10-20', '20-50', '50-100', '100+'])\n",
        "\n",
        "print(df[['fare_amount', 'price_category']].head())"
      ],
      "metadata": {
        "colab": {
          "base_uri": "https://localhost:8080/"
        },
        "id": "QWKGa1MhxUmR",
        "outputId": "45496d41-fb28-423a-9013-10962324f9ae"
      },
      "execution_count": 103,
      "outputs": [
        {
          "output_type": "stream",
          "name": "stdout",
          "text": [
            "   fare_amount price_category\n",
            "0          7.5           0-10\n",
            "1          7.7           0-10\n",
            "2         12.9          10-20\n",
            "3          5.3           0-10\n",
            "4         16.0          10-20\n"
          ]
        }
      ]
    },
    {
      "cell_type": "code",
      "source": [
        "# Categorizar número de passageiros agrupados\n",
        "df['passenger_category'] = df['passenger_count'].apply(\n",
        "    lambda x: 'Solo' if x == 1 else 'Group' if x > 1 else 'Invalid'\n",
        ")\n",
        "\n",
        "print(df[['passenger_count', 'passenger_category']].head())"
      ],
      "metadata": {
        "colab": {
          "base_uri": "https://localhost:8080/"
        },
        "id": "HXi5Nrttx3BD",
        "outputId": "06b40a19-9367-470c-a810-c2b9268c3b61"
      },
      "execution_count": 104,
      "outputs": [
        {
          "output_type": "stream",
          "name": "stdout",
          "text": [
            "   passenger_count passenger_category\n",
            "0                1               Solo\n",
            "1                1               Solo\n",
            "2                1               Solo\n",
            "3                3              Group\n",
            "4                5              Group\n"
          ]
        }
      ]
    },
    {
      "cell_type": "markdown",
      "source": [
        "### Distância da corrida:"
      ],
      "metadata": {
        "id": "tSwwV1dDyigV"
      }
    },
    {
      "cell_type": "code",
      "source": [
        "from geopy.distance import geodesic\n",
        "\n",
        "# Função para calcular a distância usando geopy\n",
        "def calculate_distance(row):\n",
        "    pickup_coords = (row['pickup_latitude'], row['pickup_longitude'])\n",
        "    dropoff_coords = (row['dropoff_latitude'], row['dropoff_longitude'])\n",
        "    # Calcular a distância em quilômetros\n",
        "    return geodesic(pickup_coords, dropoff_coords).km\n",
        "\n",
        "# Criar a nova variável 'distance_km'\n",
        "df['distance_km'] = df.apply(calculate_distance, axis=1)\n",
        "\n",
        "# Exibir as primeiras linhas para verificar o resultado\n",
        "print(df[['pickup_latitude', 'pickup_longitude', 'dropoff_latitude', 'dropoff_longitude', 'distance_km']].head())\n",
        "\n"
      ],
      "metadata": {
        "colab": {
          "base_uri": "https://localhost:8080/"
        },
        "id": "HAauWOdh3Q6L",
        "outputId": "f0d1b3ff-a119-4db0-d024-20edd5702da1"
      },
      "execution_count": 105,
      "outputs": [
        {
          "output_type": "stream",
          "name": "stdout",
          "text": [
            "   pickup_latitude  pickup_longitude  dropoff_latitude  dropoff_longitude  \\\n",
            "0        40.738354        -73.999817         40.723217         -73.999512   \n",
            "1        40.728225        -73.994355         40.750325         -73.994710   \n",
            "2        40.740770        -74.005043         40.772647         -73.962565   \n",
            "3        40.790844        -73.976124         40.803349         -73.965316   \n",
            "4        40.744085        -73.925023         40.761247         -73.973082   \n",
            "\n",
            "   distance_km  \n",
            "0     1.681111  \n",
            "1     2.454363  \n",
            "2     5.039603  \n",
            "3     1.661442  \n",
            "4     4.483730  \n"
          ]
        }
      ]
    },
    {
      "cell_type": "markdown",
      "source": [
        "### Definição do modelo analítico:"
      ],
      "metadata": {
        "id": "bVJWAbRY415t"
      }
    },
    {
      "cell_type": "markdown",
      "source": [
        "Com base no conjunto de dados do Uber, optamos por um modelo de **regressão** para predizer o valor da corrida (fare_amount) com base em variáveis explicativas como distância da corrida, número de passageiros, e localização."
      ],
      "metadata": {
        "id": "yHL0M3zK5BK7"
      }
    },
    {
      "cell_type": "markdown",
      "source": [
        "Modelo Escolhido: **Regressão Linear**\n",
        "Objetivo do Projeto: O principal objetivo é analisar e predizer o valor das corridas. A regressão linear é apropriada quando você deseja modelar a relação linear entre uma variável dependente (ex., fare_amount) e uma ou mais variáveis independentes.\n",
        "\n",
        "Interpretação Simples: A regressão linear permite compreender o impacto individual de cada variável explicativa (ex., distância, localização) no valor final da corrida."
      ],
      "metadata": {
        "id": "j8-d5X8M5N5C"
      }
    },
    {
      "cell_type": "code",
      "source": [
        "from sklearn.metrics import mean_absolute_error\n",
        "from sklearn.metrics import mean_absolute_error, mean_squared_error, r2_score\n",
        "\n",
        "def calculate_distance(row):\n",
        "    pickup_coords = (row['pickup_latitude'], row['pickup_longitude'])\n",
        "    dropoff_coords = (row['dropoff_latitude'], row['dropoff_longitude'])\n",
        "    return geodesic(pickup_coords, dropoff_coords).km\n",
        "\n",
        "df['distance_km'] = df.apply(calculate_distance, axis=1)\n",
        "\n",
        "# Remover linhas com valores ausentes (se existirem)\n",
        "df = df.dropna()\n",
        "\n",
        "# Selecionar as variáveis para o modelo\n",
        "X = df[['distance_km', 'passenger_count', 'pickup_longitude', 'pickup_latitude',\n",
        "        'dropoff_longitude', 'dropoff_latitude']]\n",
        "y = df['fare_amount']\n",
        "\n",
        "# Dividir os dados em treinamento e teste\n",
        "X_train, X_test, y_train, y_test = train_test_split(X, y, test_size=0.2, random_state=42)\n",
        "\n",
        "# Treinar o modelo de regressão linear\n",
        "model = LinearRegression()\n",
        "model.fit(X_train, y_train)\n",
        "\n",
        "# Fazer previsões no conjunto de teste\n",
        "y_pred = model.predict(X_test)\n",
        "\n",
        "# Avaliar o modelo\n",
        "rmse = np.sqrt(mean_squared_error(y_test, y_pred))\n",
        "r2 = r2_score(y_test, y_pred)\n",
        "mae = mean_absolute_error(y_test, y_pred)\n",
        "\n",
        "print(\"Avaliação do Modelo:\")\n",
        "print(f\"RMSE (Root Mean Squared Error): {rmse:.2f}\")\n",
        "print(f\"R² (Coeficiente de Determinação): {r2:.2f}\")\n",
        "print(f\"MAE (Mean Absolute Error): {mae:.2f}\")\n",
        "\n",
        "# Analisar os coeficientes do modelo\n",
        "coeficients = pd.DataFrame({\n",
        "    'Variable': X.columns,\n",
        "    'Coefficient': model.coef_\n",
        "})\n",
        "\n",
        "print(\"\\nCoeficientes do Modelo:\")\n",
        "print(coeficients)\n",
        "\n",
        "# Salvar os resultados (opcional)\n",
        "coeficients.to_csv('regression_coefficients.csv', index=False)\n"
      ],
      "metadata": {
        "colab": {
          "base_uri": "https://localhost:8080/"
        },
        "id": "aY5fK36s57eC",
        "outputId": "3dac2cd7-cc1d-4e02-a092-63cb59900767"
      },
      "execution_count": 106,
      "outputs": [
        {
          "output_type": "stream",
          "name": "stdout",
          "text": [
            "Avaliação do Modelo:\n",
            "RMSE (Root Mean Squared Error): 10.18\n",
            "R² (Coeficiente de Determinação): 0.00\n",
            "MAE (Mean Absolute Error): 6.09\n",
            "\n",
            "Coeficientes do Modelo:\n",
            "            Variable  Coefficient\n",
            "0        distance_km     0.004451\n",
            "1    passenger_count     0.076925\n",
            "2   pickup_longitude    -0.134435\n",
            "3    pickup_latitude    -0.146306\n",
            "4  dropoff_longitude    -0.082630\n",
            "5   dropoff_latitude    -0.102861\n"
          ]
        }
      ]
    },
    {
      "cell_type": "markdown",
      "source": [
        "**RMSE (Root Mean Squared Error): 10.18**\n",
        "\n",
        "O RMSE é uma métrica de erro que mede a diferença média entre os valores reais e os valores preditos. Quanto menor o RMSE, melhor o modelo, pois significa que as previsões estão mais próximas dos valores reais.\n",
        "\n",
        "Interpretação: Um RMSE de 10.18 indica que, em média, o modelo tem um erro de 10.18 unidades na previsão da tarifa. Esse valor depende da unidade dos dados e pode ser considerado razoável ou alto dependendo do contexto."
      ],
      "metadata": {
        "id": "DaHhqdrW8CCG"
      }
    },
    {
      "cell_type": "markdown",
      "source": [
        "**R² (Coeficiente de Determinação): 0.00**\n",
        "\n",
        "O R² mede a proporção da variabilidade total dos dados que é explicada pelo modelo. Vai de 0 a 1, sendo 1 uma previsão perfeita e 0 significando que o modelo não tem poder explicativo sobre os dados.\n",
        "\n",
        "Interpretação: Um R² de 0.00 indica que o modelo não consegue explicar praticamente nenhuma variabilidade nos dados. Em outras palavras, as variáveis utilizadas no modelo (como distância, número de passageiros, etc.) não estão ajudando a prever a tarifa de forma significativa."
      ],
      "metadata": {
        "id": "LdIrpL-n8m3c"
      }
    },
    {
      "cell_type": "markdown",
      "source": [
        "**MAE (Mean Absolute Error): 6.09**\n",
        "\n",
        "O que é: O MAE mede o erro médio absoluto, ou seja, a média das diferenças absolutas entre os valores reais e os preditos. Ele dá uma ideia de quão distante, em média, as previsões estão dos valores reais.\n",
        "\n",
        "Interpretação: Um MAE de 6.09 significa que, em média, o modelo erra em torno de 6.09 unidades na previsão da tarifa."
      ],
      "metadata": {
        "id": "CalZ7K8A80ST"
      }
    },
    {
      "cell_type": "markdown",
      "source": [
        "**Coeficientes do Modelo:**\n",
        "\n",
        "Os coeficientes indicam a relação entre cada variável independente (como distância, número de passageiros, coordenadas de pickup e dropoff) e a variável dependente (fare_amount). Eles mostram como cada variável impacta a tarifa.\n",
        "\n",
        "*   distance_km: 0.004451 — A distância tem um pequeno impacto positivo na tarifa. Ou seja, a cada quilômetro adicional percorrido, o valor da tarifa aumenta em 0.004451 unidades.\n",
        "\n",
        "\n",
        "*  passenger_count: 0.076925 — O número de passageiros também tem um efeito positivo na tarifa. A cada passageiro adicional, a tarifa aumenta em 0.076925 unidades.\n",
        "\n",
        "*  pickup_longitude: -0.134435 — A longitude de pickup tem um impacto negativo na tarifa. A cada alteração na longitude, a tarifa diminui em 0.134435 unidades.\n",
        "\n",
        "*  pickup_latitude: -0.146306 — Semelhante à longitude, a latitude de pickup também tem um impacto negativo na tarifa.\n",
        "\n",
        "*  dropoff_longitude: -0.082630 — A longitude de dropoff tem um impacto negativo na tarifa.\n",
        "\n",
        "*  dropoff_latitude: -0.102861 — A latitude de dropoff também tem um impacto negativo na tarifa."
      ],
      "metadata": {
        "id": "39JuVYcw9N6l"
      }
    },
    {
      "cell_type": "markdown",
      "source": [
        "**Árvores de decisão:** como modelo de classificação"
      ],
      "metadata": {
        "id": "1TeZ3WEuAKd8"
      }
    },
    {
      "cell_type": "code",
      "source": [
        "from sklearn.model_selection import train_test_split\n",
        "from sklearn.tree import DecisionTreeClassifier\n",
        "from sklearn.metrics import accuracy_score, classification_report\n",
        "\n",
        "# Vamos dividir as tarifas em três categorias: Baixa, Média, Alta\n",
        "bins = [0, 10, 30, float('inf')]  # Definir os intervalos das tarifas\n",
        "labels = ['Baixa', 'Média', 'Alta']  # Rótulos das categorias\n",
        "\n",
        "df['fare_category'] = pd.cut(df['fare_amount'], bins=bins, labels=labels)\n",
        "\n",
        "# Selecionar as variáveis de entrada (features) e a variável alvo (target)\n",
        "# Features: distância, número de passageiros, coordenadas de pickup e dropoff\n",
        "X = df[['distance_km', 'passenger_count', 'pickup_longitude', 'pickup_latitude', 'dropoff_longitude', 'dropoff_latitude']]\n",
        "y = df['fare_category']  # Variável de categoria da tarifa\n",
        "\n",
        "#  Dividir o conjunto de dados em treino e teste\n",
        "X_train, X_test, y_train, y_test = train_test_split(X, y, test_size=0.2, random_state=42)\n",
        "\n",
        "# Criar o modelo de Árvore de Decisão\n",
        "model = DecisionTreeClassifier(random_state=42)\n",
        "\n",
        "# Treinar o modelo\n",
        "model.fit(X_train, y_train)\n",
        "\n",
        "# Fazer previsões\n",
        "y_pred = model.predict(X_test)\n",
        "\n",
        "# Avaliar o desempenho do modelo\n",
        "accuracy = accuracy_score(y_test, y_pred)\n",
        "print(f'Acurácia do Modelo: {accuracy:.4f}')\n",
        "\n",
        "# Exibir o relatório de classificação (precisão, recall, F1-score)\n",
        "print('\\nRelatório de Classificação:\\n', classification_report(y_test, y_pred))\n"
      ],
      "metadata": {
        "colab": {
          "base_uri": "https://localhost:8080/"
        },
        "id": "KaFqmEqSA9ng",
        "outputId": "c662c6a9-1c16-48d0-a55c-43996fab75c7"
      },
      "execution_count": 107,
      "outputs": [
        {
          "output_type": "stream",
          "name": "stdout",
          "text": [
            "Acurácia do Modelo: 0.8076\n",
            "\n",
            "Relatório de Classificação:\n",
            "               precision    recall  f1-score   support\n",
            "\n",
            "        Alta       0.71      0.71      0.71      2040\n",
            "       Baixa       0.87      0.86      0.87     25175\n",
            "       Média       0.71      0.71      0.71     12639\n",
            "\n",
            "    accuracy                           0.81     39854\n",
            "   macro avg       0.76      0.76      0.76     39854\n",
            "weighted avg       0.81      0.81      0.81     39854\n",
            "\n"
          ]
        }
      ]
    },
    {
      "cell_type": "markdown",
      "source": [
        "**Acurácia do Modelo: 0.8076**\n",
        "\n",
        "A acurácia do modelo é a porcentagem de previsões corretas que o modelo fez em relação ao total de previsões. Neste caso, o modelo acertou 80.76% das previsões. Esse valor indica que, em média, o modelo conseguiu classificar corretamente as tarifas na categoria correta em 80.76% dos casos.\n",
        "\n",
        "**Relatório de Classificação:**\n",
        "\n",
        "O relatório de classificação inclui precisão (precision), recall, f1-score e support para cada categoria (\"Alta\", \"Baixa\", \"Média\").\n",
        "\n",
        "**Para cada categoria:**\n",
        "Precision (Precisão):\n",
        "\n",
        "Alta: 0.71 → Quando o modelo previu a tarifa como \"Alta\", ele estava correto 71% das vezes.\n",
        "\n",
        "Baixa: 0.87 → Quando o modelo previu a tarifa como \"Baixa\", ele estava correto 87% das vezes.\n",
        "\n",
        "Média: 0.71 → Quando o modelo previu a tarifa como \"Média\", ele estava correto 71% das vezes.\n",
        "\n",
        "**Recall (Sensibilidade ou Revocação):**\n",
        "\n",
        "Alta: 0.71 → O modelo acertou 71% das instâncias reais de tarifas \"Alta\".\n",
        "\n",
        "Baixa: 0.86 → O modelo acertou 86% das instâncias reais de tarifas \"Baixa\".\n",
        "\n",
        "Média: 0.71 → O modelo acertou 71% das instâncias reais de tarifas \"Média\".\n",
        "\n",
        "**F1-Score:** É a média harmônica entre precisão e recall. Ele oferece uma visão equilibrada do desempenho do modelo, especialmente quando há desequilíbrio entre precisão e recall.\n",
        "\n",
        "Alta: 0.71\n",
        "\n",
        "Baixa: 0.87\n",
        "\n",
        "Média: 0.71\n",
        "\n",
        "**Support:** Isso se refere ao número de ocorrências de cada classe no conjunto de dados de teste.\n",
        "\n",
        "Alta: 2040 instâncias\n",
        "\n",
        "Baixa: 25175 instâncias\n",
        "\n",
        "Média: 12639 instâncias\n",
        "\n",
        "**Médias:**\n",
        "\n",
        "Macro Average: A média macro calcula a média de precisão, recall e F1 para todas as classes, sem ponderar pela frequência das classes. Isso dá uma visão geral do modelo para todas as classes, levando em conta as três.\n",
        "\n",
        "***Precision (precisão):*** 0.76\n",
        "\n",
        "-  Recall: 0.76\n",
        "\n",
        "-  F1-score: 0.76\n",
        "\n",
        "Significa que, em média, o modelo tem um desempenho de 76% quando não considera a distribuição das classes.\n",
        "\n",
        "***Weighted Average:***\n",
        "\n",
        "A média ponderada calcula a média de precisão, recall e F1 com base no número de instâncias em cada classe, ou seja, ela leva em conta a frequência de cada classe.\n",
        "\n",
        "- Precision: 0.81\n",
        "\n",
        "- Recall: 0.81\n",
        "\n",
        "- F1-score: 0.81\n",
        "\n",
        "Isso é útil porque classes mais frequentes (como \"Baixa\") têm um peso maior na avaliação geral."
      ],
      "metadata": {
        "id": "36bnTmN6CArZ"
      }
    },
    {
      "cell_type": "markdown",
      "source": [
        "### **Conclusão do Projeto: Análise e Predição de Tarifas da Uber**\n",
        "\n",
        "Neste projeto, realizamos uma análise preditiva sobre as tarifas das corridas da Uber, utilizando um conjunto de dados contendo informações sobre o trajeto, o número de passageiros e o valor da tarifa. Nosso objetivo foi desenvolver um modelo preditivo capaz de estimar o valor da tarifa com base em variáveis como a distância percorrida e o número de passageiros, além das coordenadas geográficas de início e fim da corrida.\n",
        "\n",
        "#### **Principais Etapas Realizadas:**\n",
        "1. **Análise Exploratória de Dados (EDA):**\n",
        "   - Inicialmente, realizamos uma análise exploratória para entender as características do conjunto de dados, identificar valores ausentes e tratar anomalias, como a presença de valores de coordenadas inválidos (0.0) e outliers.\n",
        "   - As variáveis com coordenadas inválidas foram substituídas pela mediana das colunas correspondentes para garantir a integridade dos dados.\n",
        "\n",
        "2. **Criação de Novas Variáveis:**\n",
        "   - Calculamos a **distância das corridas** utilizando a fórmula de distância geodésica entre as coordenadas de pickup e dropoff, com o auxílio da biblioteca geopy, o que adicionou uma dimensão crucial para entender a relação entre distância e tarifa.\n",
        "\n",
        "3. **Construção do Modelo Preditivo:**\n",
        "   - Implementamos um modelo de **regressão linear** para prever as tarifas das corridas com base nas variáveis explicativas.\n",
        "   - O modelo foi avaliado utilizando métricas como **Erro Médio Absoluto (MAE)**, **Raiz do Erro Quadrático Médio (RMSE)** e **Coeficiente de Determinação (R²)**. As métricas mostraram que o modelo tem um desempenho moderado, com o R² indicando que ele não explica uma grande parte da variabilidade das tarifas, o que sugere que o modelo pode ser aprimorado.\n",
        "\n",
        "4. **Avaliação e Melhorias:**\n",
        "   - Os resultados indicaram que, apesar de o modelo fornecer algumas previsões razoáveis, ele não foi capaz de capturar completamente a complexidade das tarifas. O R² muito baixo sugere que mais variáveis ou um modelo mais complexo são necessários.\n",
        "   - A análise de **MAE** e **RMSE** demonstrou que o erro médio na previsão das tarifas é de cerca de 6,09 unidades monetárias, o que, dependendo do contexto, pode ser aceitável ou requerer ajustes adicionais no modelo.\n",
        "\n",
        "#### **Desafios e Oportunidades de Melhoria:**\n",
        "- **Variáveis adicionais**: É possível que o modelo possa ser melhorado com a adição de novas variáveis, como o horário do dia, condições do tráfego, e tipo de veículo. Essas variáveis poderiam explicar mais da variação nos preços das corridas.\n",
        "\n",
        "### **Modelo de Árvore de Decisão:**\n",
        "\n",
        "Após a avaliação do modelo de regressão linear, implementamos um modelo de árvore de decisão para prever as tarifas das corridas. As árvores de decisão têm a vantagem de serem capazes de modelar relações não-lineares e interações complexas entre as variáveis. A aplicação dessa técnica resultou em um modelo com um desempenho melhorado, com acurácia de 80.76% e boas métricas de precisão, recall e F1-score. A árvore de decisão ajudou a identificar padrões mais profundos nas variáveis e classificou corretamente as tarifas em diferentes categorias (Alta, Baixa e Média).\n",
        "#### **Conclusão Final:**\n",
        "O projeto demonstrou a viabilidade de utilizar técnicas de análise de dados e aprendizado de máquina para prever tarifas de corridas da Uber, embora o modelo atual não tenha alcançado uma precisão elevada. As métricas de erro e o R² indicam que há espaço para melhorias no modelo, seja por meio da inclusão de variáveis adicionais, ajustes nos dados ou a aplicação de modelos mais sofisticados. A análise de modelos como as árvores de decisão trouxe um avanço significativo em relação à regressão linear, oferecendo uma abordagem mais eficaz para prever as tarifas, especialmente em contextos mais complexos."
      ],
      "metadata": {
        "id": "cKb5PzSt-sV7"
      }
    }
  ]
}